{
 "cells": [
  {
   "cell_type": "markdown",
   "metadata": {
    "id": "FS1lAJzxCQz2"
   },
   "source": [
    "Machine Learning Med Devices\n",
    "Jiaoli Yang"
   ]
  },
  {
   "cell_type": "markdown",
   "metadata": {
    "id": "xaEVF-ChGNja"
   },
   "source": [
    " ### Hackathon\n",
    "\n",
    "Use the following dataset to train and test deep-learning CNN model to identify if a given image represents tumor in brain or not."
   ]
  },
  {
   "cell_type": "code",
   "execution_count": null,
   "metadata": {
    "id": "M6TzhAqc08ph"
   },
   "outputs": [],
   "source": [
    "import os\n",
    "import numpy as np\n",
    "import seaborn as sns\n",
    "from random import choices\n",
    "\n",
    "import tensorflow as tf\n",
    "from tensorflow import keras\n",
    "from tensorflow.keras import datasets,layers,models\n",
    "import cv2\n",
    "from keras.callbacks import EarlyStopping,ModelCheckpoint\n",
    "from keras.preprocessing.image import ImageDataGenerator\n",
    "from keras.layers import Conv2D, MaxPooling2D,BatchNormalization,Input,ZeroPadding2D,Activation\n",
    "from keras.layers import Activation, Dropout, Flatten, Dense\n",
    "from tensorflow.keras.models import Model,load_model\n",
    "import matplotlib.pyplot as plt"
   ]
  },
  {
   "cell_type": "markdown",
   "metadata": {
    "id": "gA1Sw9qVGaSJ"
   },
   "source": [
    "## 1.Unzip brain_tumor_dataset"
   ]
  },
  {
   "cell_type": "code",
   "execution_count": null,
   "metadata": {
    "colab": {
     "base_uri": "https://localhost:8080/"
    },
    "executionInfo": {
     "elapsed": 4094,
     "status": "ok",
     "timestamp": 1617597974237,
     "user": {
      "displayName": "Jiaoli Yang",
      "photoUrl": "",
      "userId": "05005355606636311294"
     },
     "user_tz": 420
    },
    "id": "TjpMpKY_7sPr",
    "outputId": "78011330-04ee-43e6-be73-c69e0f67b03e"
   },
   "outputs": [
    {
     "name": "stdout",
     "output_type": "stream",
     "text": [
      "'/content/drive/MyDrive/INFO 7374/Exercise/brain_tumor_dataset.zip'\n",
      "Archive:  /content/drive/MyDrive/INFO 7374/Exercise/brain_tumor_dataset.zip\n",
      "replace __MACOSX/._brain_tumor_dataset? [y]es, [n]o, [A]ll, [N]one, [r]ename: A\n",
      "  inflating: __MACOSX/._brain_tumor_dataset  \n",
      "  inflating: brain_tumor_dataset/.DS_Store  \n",
      "  inflating: __MACOSX/brain_tumor_dataset/._.DS_Store  \n",
      "  inflating: __MACOSX/brain_tumor_dataset/._no  \n",
      "  inflating: __MACOSX/brain_tumor_dataset/._yes  \n",
      "  inflating: brain_tumor_dataset/no/30 no.jpg  \n",
      "  inflating: __MACOSX/brain_tumor_dataset/no/._30 no.jpg  \n",
      "  inflating: brain_tumor_dataset/no/22 no.jpg  \n",
      "  inflating: __MACOSX/brain_tumor_dataset/no/._22 no.jpg  \n",
      "  inflating: brain_tumor_dataset/no/41 no.jpg  \n",
      "  inflating: __MACOSX/brain_tumor_dataset/no/._41 no.jpg  \n",
      "  inflating: brain_tumor_dataset/no/14 no.jpg  \n",
      "  inflating: __MACOSX/brain_tumor_dataset/no/._14 no.jpg  \n",
      "  inflating: brain_tumor_dataset/no/no 10.jpg  \n",
      "  inflating: __MACOSX/brain_tumor_dataset/no/._no 10.jpg  \n",
      "  inflating: brain_tumor_dataset/no/18 no.jpg  \n",
      "  inflating: __MACOSX/brain_tumor_dataset/no/._18 no.jpg  \n",
      "  inflating: brain_tumor_dataset/no/no 9.png  \n",
      "  inflating: __MACOSX/brain_tumor_dataset/no/._no 9.png  \n",
      "  inflating: brain_tumor_dataset/no/no 7.jpeg  \n",
      "  inflating: __MACOSX/brain_tumor_dataset/no/._no 7.jpeg  \n",
      "  inflating: brain_tumor_dataset/no/no 8.jpg  \n",
      "  inflating: __MACOSX/brain_tumor_dataset/no/._no 8.jpg  \n",
      "  inflating: brain_tumor_dataset/no/no.jpg  \n",
      "  inflating: __MACOSX/brain_tumor_dataset/no/._no.jpg  \n",
      "  inflating: brain_tumor_dataset/no/3 no.jpg  \n",
      "  inflating: __MACOSX/brain_tumor_dataset/no/._3 no.jpg  \n",
      "  inflating: brain_tumor_dataset/no/43 no.jpg  \n",
      "  inflating: __MACOSX/brain_tumor_dataset/no/._43 no.jpg  \n",
      "  inflating: brain_tumor_dataset/no/20 no.jpg  \n",
      "  inflating: __MACOSX/brain_tumor_dataset/no/._20 no.jpg  \n",
      "  inflating: brain_tumor_dataset/no/32 no.jpg  \n",
      "  inflating: __MACOSX/brain_tumor_dataset/no/._32 no.jpg  \n",
      "  inflating: brain_tumor_dataset/no/2 no.jpeg  \n",
      "  inflating: __MACOSX/brain_tumor_dataset/no/._2 no.jpeg  \n",
      "  inflating: brain_tumor_dataset/no/N15.jpg  \n",
      "  inflating: __MACOSX/brain_tumor_dataset/no/._N15.jpg  \n",
      "  inflating: brain_tumor_dataset/no/no 99.jpg  \n",
      "  inflating: __MACOSX/brain_tumor_dataset/no/._no 99.jpg  \n",
      "  inflating: brain_tumor_dataset/no/no 98.jpg  \n",
      "  inflating: __MACOSX/brain_tumor_dataset/no/._no 98.jpg  \n",
      "  inflating: brain_tumor_dataset/no/No11.jpg  \n",
      "  inflating: __MACOSX/brain_tumor_dataset/no/._No11.jpg  \n",
      "  inflating: brain_tumor_dataset/no/7 no.jpg  \n",
      "  inflating: __MACOSX/brain_tumor_dataset/no/._7 no.jpg  \n",
      "  inflating: brain_tumor_dataset/no/12 no.jpg  \n",
      "  inflating: __MACOSX/brain_tumor_dataset/no/._12 no.jpg  \n",
      "  inflating: brain_tumor_dataset/no/No13.jpg  \n",
      "  inflating: __MACOSX/brain_tumor_dataset/no/._No13.jpg  \n",
      "  inflating: brain_tumor_dataset/no/44no.jpg  \n",
      "  inflating: __MACOSX/brain_tumor_dataset/no/._44no.jpg  \n",
      "  inflating: brain_tumor_dataset/no/N16.jpg  \n",
      "  inflating: __MACOSX/brain_tumor_dataset/no/._N16.jpg  \n",
      "  inflating: brain_tumor_dataset/no/N17.jpg  \n",
      "  inflating: __MACOSX/brain_tumor_dataset/no/._N17.jpg  \n",
      "  inflating: brain_tumor_dataset/no/28 no.jpg  \n",
      "  inflating: __MACOSX/brain_tumor_dataset/no/._28 no.jpg  \n",
      "  inflating: brain_tumor_dataset/no/36 no.jpg  \n",
      "  inflating: __MACOSX/brain_tumor_dataset/no/._36 no.jpg  \n",
      "  inflating: brain_tumor_dataset/no/No12.jpg  \n",
      "  inflating: __MACOSX/brain_tumor_dataset/no/._No12.jpg  \n",
      "  inflating: brain_tumor_dataset/no/47 no.jpg  \n",
      "  inflating: __MACOSX/brain_tumor_dataset/no/._47 no.jpg  \n",
      "  inflating: brain_tumor_dataset/no/24 no.jpg  \n",
      "  inflating: __MACOSX/brain_tumor_dataset/no/._24 no.jpg  \n",
      "  inflating: brain_tumor_dataset/no/No16.jpg  \n",
      "  inflating: __MACOSX/brain_tumor_dataset/no/._No16.jpg  \n",
      "  inflating: brain_tumor_dataset/no/10 no.jpg  \n",
      "  inflating: __MACOSX/brain_tumor_dataset/no/._10 no.jpg  \n",
      "  inflating: brain_tumor_dataset/no/26 no.jpg  \n",
      "  inflating: __MACOSX/brain_tumor_dataset/no/._26 no.jpg  \n",
      "  inflating: brain_tumor_dataset/no/45 no.jpg  \n",
      "  inflating: __MACOSX/brain_tumor_dataset/no/._45 no.jpg  \n",
      "  inflating: brain_tumor_dataset/no/no 923.jpg  \n",
      "  inflating: __MACOSX/brain_tumor_dataset/no/._no 923.jpg  \n",
      "  inflating: brain_tumor_dataset/no/38 no.jpg  \n",
      "  inflating: __MACOSX/brain_tumor_dataset/no/._38 no.jpg  \n",
      "  inflating: brain_tumor_dataset/no/No17.jpg  \n",
      "  inflating: __MACOSX/brain_tumor_dataset/no/._No17.jpg  \n",
      "  inflating: brain_tumor_dataset/no/49 no.jpg  \n",
      "  inflating: __MACOSX/brain_tumor_dataset/no/._49 no.jpg  \n",
      "  inflating: brain_tumor_dataset/no/34 no.jpg  \n",
      "  inflating: __MACOSX/brain_tumor_dataset/no/._34 no.jpg  \n",
      "  inflating: brain_tumor_dataset/no/1 no.jpeg  \n",
      "  inflating: __MACOSX/brain_tumor_dataset/no/._1 no.jpeg  \n",
      "  inflating: brain_tumor_dataset/no/no 100.jpg  \n",
      "  inflating: __MACOSX/brain_tumor_dataset/no/._no 100.jpg  \n",
      "  inflating: brain_tumor_dataset/no/No15.jpg  \n",
      "  inflating: __MACOSX/brain_tumor_dataset/no/._No15.jpg  \n",
      "  inflating: brain_tumor_dataset/no/5 no.jpg  \n",
      "  inflating: __MACOSX/brain_tumor_dataset/no/._5 no.jpg  \n",
      "  inflating: brain_tumor_dataset/no/N11.jpg  \n",
      "  inflating: __MACOSX/brain_tumor_dataset/no/._N11.jpg  \n",
      "  inflating: brain_tumor_dataset/no/no 89.jpg  \n",
      "  inflating: __MACOSX/brain_tumor_dataset/no/._no 89.jpg  \n",
      "  inflating: brain_tumor_dataset/no/No14.jpg  \n",
      "  inflating: __MACOSX/brain_tumor_dataset/no/._No14.jpg  \n",
      "  inflating: brain_tumor_dataset/no/9 no.jpg  \n",
      "  inflating: __MACOSX/brain_tumor_dataset/no/._9 no.jpg  \n",
      "  inflating: brain_tumor_dataset/no/No19.jpg  \n",
      "  inflating: __MACOSX/brain_tumor_dataset/no/._No19.jpg  \n",
      "  inflating: brain_tumor_dataset/no/no 90.jpg  \n",
      "  inflating: __MACOSX/brain_tumor_dataset/no/._no 90.jpg  \n",
      "  inflating: brain_tumor_dataset/no/N20.JPG  \n",
      "  inflating: __MACOSX/brain_tumor_dataset/no/._N20.JPG  \n",
      "  inflating: brain_tumor_dataset/no/N21.jpg  \n",
      "  inflating: __MACOSX/brain_tumor_dataset/no/._N21.jpg  \n",
      "  inflating: brain_tumor_dataset/no/No18.jpg  \n",
      "  inflating: __MACOSX/brain_tumor_dataset/no/._No18.jpg  \n",
      "  inflating: brain_tumor_dataset/no/15 no.jpg  \n",
      "  inflating: __MACOSX/brain_tumor_dataset/no/._15 no.jpg  \n",
      "  inflating: brain_tumor_dataset/no/19 no.jpg  \n",
      "  inflating: __MACOSX/brain_tumor_dataset/no/._19 no.jpg  \n",
      "  inflating: brain_tumor_dataset/no/N22.JPG  \n",
      "  inflating: __MACOSX/brain_tumor_dataset/no/._N22.JPG  \n",
      "  inflating: brain_tumor_dataset/no/no 92.jpg  \n",
      "  inflating: __MACOSX/brain_tumor_dataset/no/._no 92.jpg  \n",
      "  inflating: brain_tumor_dataset/no/31 no.jpg  \n",
      "  inflating: __MACOSX/brain_tumor_dataset/no/._31 no.jpg  \n",
      "  inflating: brain_tumor_dataset/no/40 no.jpg  \n",
      "  inflating: __MACOSX/brain_tumor_dataset/no/._40 no.jpg  \n",
      "  inflating: brain_tumor_dataset/no/23 no.jpg  \n",
      "  inflating: __MACOSX/brain_tumor_dataset/no/._23 no.jpg  \n",
      "  inflating: brain_tumor_dataset/no/17 no.jpg  \n",
      "  inflating: __MACOSX/brain_tumor_dataset/no/._17 no.jpg  \n",
      "  inflating: brain_tumor_dataset/no/N26.JPG  \n",
      "  inflating: __MACOSX/brain_tumor_dataset/no/._N26.JPG  \n",
      "  inflating: brain_tumor_dataset/no/no 96.jpg  \n",
      "  inflating: __MACOSX/brain_tumor_dataset/no/._no 96.jpg  \n",
      "  inflating: brain_tumor_dataset/no/no 97.jpg  \n",
      "  inflating: __MACOSX/brain_tumor_dataset/no/._no 97.jpg  \n",
      "  inflating: brain_tumor_dataset/no/21 no.jpg  \n",
      "  inflating: __MACOSX/brain_tumor_dataset/no/._21 no.jpg  \n",
      "  inflating: brain_tumor_dataset/no/42 no.jpg  \n",
      "  inflating: __MACOSX/brain_tumor_dataset/no/._42 no.jpg  \n",
      "  inflating: brain_tumor_dataset/no/No22.jpg  \n",
      "  inflating: __MACOSX/brain_tumor_dataset/no/._No22.jpg  \n",
      "  inflating: brain_tumor_dataset/no/33 no.jpg  \n",
      "  inflating: __MACOSX/brain_tumor_dataset/no/._33 no.jpg  \n",
      "  inflating: brain_tumor_dataset/no/50 no.jpg  \n",
      "  inflating: __MACOSX/brain_tumor_dataset/no/._50 no.jpg  \n",
      "  inflating: brain_tumor_dataset/no/No20.jpg  \n",
      "  inflating: __MACOSX/brain_tumor_dataset/no/._No20.jpg  \n",
      "  inflating: brain_tumor_dataset/no/no 95.jpg  \n",
      "  inflating: __MACOSX/brain_tumor_dataset/no/._no 95.jpg  \n",
      "  inflating: brain_tumor_dataset/no/N19.JPG  \n",
      "  inflating: __MACOSX/brain_tumor_dataset/no/._N19.JPG  \n",
      "  inflating: brain_tumor_dataset/no/no 94.jpg  \n",
      "  inflating: __MACOSX/brain_tumor_dataset/no/._no 94.jpg  \n",
      "  inflating: brain_tumor_dataset/no/No21.jpg  \n",
      "  inflating: __MACOSX/brain_tumor_dataset/no/._No21.jpg  \n",
      "  inflating: brain_tumor_dataset/no/37 no.jpg  \n",
      "  inflating: __MACOSX/brain_tumor_dataset/no/._37 no.jpg  \n",
      "  inflating: brain_tumor_dataset/no/N6.jpg  \n",
      "  inflating: __MACOSX/brain_tumor_dataset/no/._N6.jpg  \n",
      "  inflating: brain_tumor_dataset/no/29 no.jpg  \n",
      "  inflating: __MACOSX/brain_tumor_dataset/no/._29 no.jpg  \n",
      "  inflating: brain_tumor_dataset/no/25 no.jpg  \n",
      "  inflating: __MACOSX/brain_tumor_dataset/no/._25 no.jpg  \n",
      "  inflating: brain_tumor_dataset/no/no 91.jpeg  \n",
      "  inflating: __MACOSX/brain_tumor_dataset/no/._no 91.jpeg  \n",
      "  inflating: brain_tumor_dataset/no/no 3.jpg  \n",
      "  inflating: __MACOSX/brain_tumor_dataset/no/._no 3.jpg  \n",
      "  inflating: brain_tumor_dataset/no/46 no.jpg  \n",
      "  inflating: __MACOSX/brain_tumor_dataset/no/._46 no.jpg  \n",
      "  inflating: brain_tumor_dataset/no/no 2.jpg  \n",
      "  inflating: __MACOSX/brain_tumor_dataset/no/._no 2.jpg  \n",
      "  inflating: brain_tumor_dataset/no/13 no.jpg  \n",
      "  inflating: __MACOSX/brain_tumor_dataset/no/._13 no.jpg  \n",
      "  inflating: brain_tumor_dataset/no/N5.jpg  \n",
      "  inflating: __MACOSX/brain_tumor_dataset/no/._N5.jpg  \n",
      "  inflating: brain_tumor_dataset/no/6 no.jpg  \n",
      "  inflating: __MACOSX/brain_tumor_dataset/no/._6 no.jpg  \n",
      "  inflating: brain_tumor_dataset/no/no 1.jpg  \n",
      "  inflating: __MACOSX/brain_tumor_dataset/no/._no 1.jpg  \n",
      "  inflating: brain_tumor_dataset/no/no 5.jpeg  \n",
      "  inflating: __MACOSX/brain_tumor_dataset/no/._no 5.jpeg  \n",
      "  inflating: brain_tumor_dataset/no/4 no.jpg  \n",
      "  inflating: __MACOSX/brain_tumor_dataset/no/._4 no.jpg  \n",
      "  inflating: brain_tumor_dataset/no/8 no.jpg  \n",
      "  inflating: __MACOSX/brain_tumor_dataset/no/._8 no.jpg  \n",
      "  inflating: brain_tumor_dataset/no/no 4.jpg  \n",
      "  inflating: __MACOSX/brain_tumor_dataset/no/._no 4.jpg  \n",
      "  inflating: brain_tumor_dataset/no/N1.JPG  \n",
      "  inflating: __MACOSX/brain_tumor_dataset/no/._N1.JPG  \n",
      "  inflating: brain_tumor_dataset/no/39 no.jpg  \n",
      "  inflating: __MACOSX/brain_tumor_dataset/no/._39 no.jpg  \n",
      "  inflating: brain_tumor_dataset/no/N3.jpg  \n",
      "  inflating: __MACOSX/brain_tumor_dataset/no/._N3.jpg  \n",
      "  inflating: brain_tumor_dataset/no/27 no.jpg  \n",
      "  inflating: __MACOSX/brain_tumor_dataset/no/._27 no.jpg  \n",
      "  inflating: brain_tumor_dataset/no/35 no.jpg  \n",
      "  inflating: __MACOSX/brain_tumor_dataset/no/._35 no.jpg  \n",
      "  inflating: brain_tumor_dataset/no/no 6.jpg  \n",
      "  inflating: __MACOSX/brain_tumor_dataset/no/._no 6.jpg  \n",
      "  inflating: brain_tumor_dataset/no/48 no.jpeg  \n",
      "  inflating: __MACOSX/brain_tumor_dataset/no/._48 no.jpeg  \n",
      "  inflating: brain_tumor_dataset/no/11 no.jpg  \n",
      "  inflating: __MACOSX/brain_tumor_dataset/no/._11 no.jpg  \n",
      "  inflating: brain_tumor_dataset/no/N2.JPG  \n",
      "  inflating: __MACOSX/brain_tumor_dataset/no/._N2.JPG  \n",
      "  inflating: brain_tumor_dataset/yes/Y157.JPG  \n",
      "  inflating: __MACOSX/brain_tumor_dataset/yes/._Y157.JPG  \n",
      "  inflating: brain_tumor_dataset/yes/Y6.jpg  \n",
      "  inflating: __MACOSX/brain_tumor_dataset/yes/._Y6.jpg  \n",
      "  inflating: brain_tumor_dataset/yes/Y194.jpg  \n",
      "  inflating: __MACOSX/brain_tumor_dataset/yes/._Y194.jpg  \n",
      "  inflating: brain_tumor_dataset/yes/Y180.jpg  \n",
      "  inflating: __MACOSX/brain_tumor_dataset/yes/._Y180.jpg  \n",
      "  inflating: brain_tumor_dataset/yes/Y90.jpg  \n",
      "  inflating: __MACOSX/brain_tumor_dataset/yes/._Y90.jpg  \n",
      "  inflating: brain_tumor_dataset/yes/Y47.JPG  \n",
      "  inflating: __MACOSX/brain_tumor_dataset/yes/._Y47.JPG  \n",
      "  inflating: brain_tumor_dataset/yes/Y53.jpg  \n",
      "  inflating: __MACOSX/brain_tumor_dataset/yes/._Y53.jpg  \n",
      "  inflating: brain_tumor_dataset/yes/Y52.jpg  \n",
      "  inflating: __MACOSX/brain_tumor_dataset/yes/._Y52.jpg  \n",
      "  inflating: brain_tumor_dataset/yes/Y46.jpg  \n",
      "  inflating: __MACOSX/brain_tumor_dataset/yes/._Y46.jpg  \n",
      "  inflating: brain_tumor_dataset/yes/Y91.jpg  \n",
      "  inflating: __MACOSX/brain_tumor_dataset/yes/._Y91.jpg  \n",
      "  inflating: brain_tumor_dataset/yes/Y85.JPG  \n",
      "  inflating: __MACOSX/brain_tumor_dataset/yes/._Y85.JPG  \n",
      "  inflating: brain_tumor_dataset/yes/Y181.jpg  \n",
      "  inflating: __MACOSX/brain_tumor_dataset/yes/._Y181.jpg  \n",
      "  inflating: brain_tumor_dataset/yes/Y195.JPG  \n",
      "  inflating: __MACOSX/brain_tumor_dataset/yes/._Y195.JPG  \n",
      "  inflating: brain_tumor_dataset/yes/Y7.jpg  \n",
      "  inflating: __MACOSX/brain_tumor_dataset/yes/._Y7.jpg  \n",
      "  inflating: brain_tumor_dataset/yes/Y156.JPG  \n",
      "  inflating: __MACOSX/brain_tumor_dataset/yes/._Y156.JPG  \n",
      "  inflating: brain_tumor_dataset/yes/Y168.jpg  \n",
      "  inflating: __MACOSX/brain_tumor_dataset/yes/._Y168.jpg  \n",
      "  inflating: brain_tumor_dataset/yes/Y154.jpg  \n",
      "  inflating: __MACOSX/brain_tumor_dataset/yes/._Y154.jpg  \n",
      "  inflating: brain_tumor_dataset/yes/Y183.jpg  \n",
      "  inflating: __MACOSX/brain_tumor_dataset/yes/._Y183.jpg  \n",
      "  inflating: brain_tumor_dataset/yes/Y78.jpg  \n",
      "  inflating: __MACOSX/brain_tumor_dataset/yes/._Y78.jpg  \n",
      "  inflating: brain_tumor_dataset/yes/Y50.JPG  \n",
      "  inflating: __MACOSX/brain_tumor_dataset/yes/._Y50.JPG  \n",
      "  inflating: brain_tumor_dataset/yes/Y44.JPG  \n",
      "  inflating: __MACOSX/brain_tumor_dataset/yes/._Y44.JPG  \n",
      "  inflating: brain_tumor_dataset/yes/Y45.JPG  \n",
      "  inflating: __MACOSX/brain_tumor_dataset/yes/._Y45.JPG  \n",
      "  inflating: brain_tumor_dataset/yes/Y51.jpg  \n",
      "  inflating: __MACOSX/brain_tumor_dataset/yes/._Y51.jpg  \n",
      "  inflating: brain_tumor_dataset/yes/Y79.jpg  \n",
      "  inflating: __MACOSX/brain_tumor_dataset/yes/._Y79.jpg  \n",
      "  inflating: brain_tumor_dataset/yes/Y86.JPG  \n",
      "  inflating: __MACOSX/brain_tumor_dataset/yes/._Y86.JPG  \n",
      "  inflating: brain_tumor_dataset/yes/Y92.jpg  \n",
      "  inflating: __MACOSX/brain_tumor_dataset/yes/._Y92.jpg  \n",
      "  inflating: brain_tumor_dataset/yes/Y92.png  \n",
      "  inflating: __MACOSX/brain_tumor_dataset/yes/._Y92.png  \n",
      "  inflating: brain_tumor_dataset/yes/Y182.JPG  \n",
      "  inflating: __MACOSX/brain_tumor_dataset/yes/._Y182.JPG  \n",
      "  inflating: brain_tumor_dataset/yes/Y155.JPG  \n",
      "  inflating: __MACOSX/brain_tumor_dataset/yes/._Y155.JPG  \n",
      "  inflating: brain_tumor_dataset/yes/Y4.jpg  \n",
      "  inflating: __MACOSX/brain_tumor_dataset/yes/._Y4.jpg  \n",
      "  inflating: brain_tumor_dataset/yes/Y169.jpg  \n",
      "  inflating: __MACOSX/brain_tumor_dataset/yes/._Y169.jpg  \n",
      "  inflating: brain_tumor_dataset/yes/Y186.jpg  \n",
      "  inflating: __MACOSX/brain_tumor_dataset/yes/._Y186.jpg  \n",
      "  inflating: brain_tumor_dataset/yes/Y192.JPG  \n",
      "  inflating: __MACOSX/brain_tumor_dataset/yes/._Y192.JPG  \n",
      "  inflating: brain_tumor_dataset/yes/Y96.jpg  \n",
      "  inflating: __MACOSX/brain_tumor_dataset/yes/._Y96.jpg  \n",
      "  inflating: brain_tumor_dataset/yes/Y82.jpg  \n",
      "  inflating: __MACOSX/brain_tumor_dataset/yes/._Y82.jpg  \n",
      "  inflating: brain_tumor_dataset/yes/Y55.jpg  \n",
      "  inflating: __MACOSX/brain_tumor_dataset/yes/._Y55.jpg  \n",
      "  inflating: brain_tumor_dataset/yes/Y41.jpg  \n",
      "  inflating: __MACOSX/brain_tumor_dataset/yes/._Y41.jpg  \n",
      "  inflating: brain_tumor_dataset/yes/Y69.jpg  \n",
      "  inflating: __MACOSX/brain_tumor_dataset/yes/._Y69.jpg  \n",
      "  inflating: brain_tumor_dataset/yes/Y40.JPG  \n",
      "  inflating: __MACOSX/brain_tumor_dataset/yes/._Y40.JPG  \n",
      "  inflating: brain_tumor_dataset/yes/Y54.jpg  \n",
      "  inflating: __MACOSX/brain_tumor_dataset/yes/._Y54.jpg  \n",
      "  inflating: brain_tumor_dataset/yes/Y97.JPG  \n",
      "  inflating: __MACOSX/brain_tumor_dataset/yes/._Y97.JPG  \n",
      "  inflating: brain_tumor_dataset/yes/Y193.JPG  \n",
      "  inflating: __MACOSX/brain_tumor_dataset/yes/._Y193.JPG  \n",
      "  inflating: brain_tumor_dataset/yes/Y187.jpg  \n",
      "  inflating: __MACOSX/brain_tumor_dataset/yes/._Y187.jpg  \n",
      "  inflating: brain_tumor_dataset/yes/Y1.jpg  \n",
      "  inflating: __MACOSX/brain_tumor_dataset/yes/._Y1.jpg  \n",
      "  inflating: brain_tumor_dataset/yes/Y3.jpg  \n",
      "  inflating: __MACOSX/brain_tumor_dataset/yes/._Y3.jpg  \n",
      "  inflating: brain_tumor_dataset/yes/Y146.JPG  \n",
      "  inflating: __MACOSX/brain_tumor_dataset/yes/._Y146.JPG  \n",
      "  inflating: brain_tumor_dataset/yes/Y185.jpg  \n",
      "  inflating: __MACOSX/brain_tumor_dataset/yes/._Y185.jpg  \n",
      "  inflating: brain_tumor_dataset/yes/Y81.jpg  \n",
      "  inflating: __MACOSX/brain_tumor_dataset/yes/._Y81.jpg  \n",
      "  inflating: brain_tumor_dataset/yes/Y95.jpg  \n",
      "  inflating: __MACOSX/brain_tumor_dataset/yes/._Y95.jpg  \n",
      "  inflating: brain_tumor_dataset/yes/Y42.jpg  \n",
      "  inflating: __MACOSX/brain_tumor_dataset/yes/._Y42.jpg  \n",
      "  inflating: brain_tumor_dataset/yes/Y56.jpg  \n",
      "  inflating: __MACOSX/brain_tumor_dataset/yes/._Y56.jpg  \n",
      "  inflating: brain_tumor_dataset/yes/Y184.JPG  \n",
      "  inflating: __MACOSX/brain_tumor_dataset/yes/._Y184.JPG  \n",
      "  inflating: brain_tumor_dataset/yes/Y2.jpg  \n",
      "  inflating: __MACOSX/brain_tumor_dataset/yes/._Y2.jpg  \n",
      "  inflating: brain_tumor_dataset/yes/Y147.JPG  \n",
      "  inflating: __MACOSX/brain_tumor_dataset/yes/._Y147.JPG  \n",
      "  inflating: brain_tumor_dataset/yes/Y153.jpg  \n",
      "  inflating: __MACOSX/brain_tumor_dataset/yes/._Y153.jpg  \n",
      "  inflating: brain_tumor_dataset/yes/Y108.jpg  \n",
      "  inflating: __MACOSX/brain_tumor_dataset/yes/._Y108.jpg  \n",
      "  inflating: brain_tumor_dataset/yes/Y120.JPG  \n",
      "  inflating: __MACOSX/brain_tumor_dataset/yes/._Y120.JPG  \n",
      "  inflating: brain_tumor_dataset/yes/Y242.JPG  \n",
      "  inflating: __MACOSX/brain_tumor_dataset/yes/._Y242.JPG  \n",
      "  inflating: brain_tumor_dataset/yes/Y256.JPG  \n",
      "  inflating: __MACOSX/brain_tumor_dataset/yes/._Y256.JPG  \n",
      "  inflating: brain_tumor_dataset/yes/Y18.JPG  \n",
      "  inflating: __MACOSX/brain_tumor_dataset/yes/._Y18.JPG  \n",
      "  inflating: brain_tumor_dataset/yes/Y24.jpg  \n",
      "  inflating: __MACOSX/brain_tumor_dataset/yes/._Y24.jpg  \n",
      "  inflating: brain_tumor_dataset/yes/Y30.jpg  \n",
      "  inflating: __MACOSX/brain_tumor_dataset/yes/._Y30.jpg  \n",
      "  inflating: brain_tumor_dataset/yes/Y31.jpg  \n",
      "  inflating: __MACOSX/brain_tumor_dataset/yes/._Y31.jpg  \n",
      "  inflating: brain_tumor_dataset/yes/Y25.jpg  \n",
      "  inflating: __MACOSX/brain_tumor_dataset/yes/._Y25.jpg  \n",
      "  inflating: brain_tumor_dataset/yes/Y19.JPG  \n",
      "  inflating: __MACOSX/brain_tumor_dataset/yes/._Y19.JPG  \n",
      "  inflating: brain_tumor_dataset/yes/Y257.jpg  \n",
      "  inflating: __MACOSX/brain_tumor_dataset/yes/._Y257.jpg  \n",
      "  inflating: brain_tumor_dataset/yes/Y243.JPG  \n",
      "  inflating: __MACOSX/brain_tumor_dataset/yes/._Y243.JPG  \n",
      "  inflating: brain_tumor_dataset/yes/Y109.JPG  \n",
      "  inflating: __MACOSX/brain_tumor_dataset/yes/._Y109.JPG  \n",
      "  inflating: brain_tumor_dataset/yes/Y255.JPG  \n",
      "  inflating: __MACOSX/brain_tumor_dataset/yes/._Y255.JPG  \n",
      "  inflating: brain_tumor_dataset/yes/Y33.jpg  \n",
      "  inflating: __MACOSX/brain_tumor_dataset/yes/._Y33.jpg  \n",
      "  inflating: brain_tumor_dataset/yes/Y27.jpg  \n",
      "  inflating: __MACOSX/brain_tumor_dataset/yes/._Y27.jpg  \n",
      "  inflating: brain_tumor_dataset/yes/Y26.jpg  \n",
      "  inflating: __MACOSX/brain_tumor_dataset/yes/._Y26.jpg  \n",
      "  inflating: brain_tumor_dataset/yes/Y32.jpg  \n",
      "  inflating: __MACOSX/brain_tumor_dataset/yes/._Y32.jpg  \n",
      "  inflating: brain_tumor_dataset/yes/Y254.jpg  \n",
      "  inflating: __MACOSX/brain_tumor_dataset/yes/._Y254.jpg  \n",
      "  inflating: brain_tumor_dataset/yes/Y250.jpg  \n",
      "  inflating: __MACOSX/brain_tumor_dataset/yes/._Y250.jpg  \n",
      "  inflating: brain_tumor_dataset/yes/Y244.JPG  \n",
      "  inflating: __MACOSX/brain_tumor_dataset/yes/._Y244.JPG  \n",
      "  inflating: brain_tumor_dataset/yes/Y36.JPG  \n",
      "  inflating: __MACOSX/brain_tumor_dataset/yes/._Y36.JPG  \n",
      "  inflating: brain_tumor_dataset/yes/Y22.jpg  \n",
      "  inflating: __MACOSX/brain_tumor_dataset/yes/._Y22.jpg  \n",
      "  inflating: brain_tumor_dataset/yes/Y23.JPG  \n",
      "  inflating: __MACOSX/brain_tumor_dataset/yes/._Y23.JPG  \n",
      "  inflating: brain_tumor_dataset/yes/Y37.jpg  \n",
      "  inflating: __MACOSX/brain_tumor_dataset/yes/._Y37.jpg  \n",
      "  inflating: brain_tumor_dataset/yes/Y245.jpg  \n",
      "  inflating: __MACOSX/brain_tumor_dataset/yes/._Y245.jpg  \n",
      "  inflating: brain_tumor_dataset/yes/Y251.JPG  \n",
      "  inflating: __MACOSX/brain_tumor_dataset/yes/._Y251.JPG  \n",
      "  inflating: brain_tumor_dataset/yes/Y247.JPG  \n",
      "  inflating: __MACOSX/brain_tumor_dataset/yes/._Y247.JPG  \n",
      "  inflating: brain_tumor_dataset/yes/Y253.JPG  \n",
      "  inflating: __MACOSX/brain_tumor_dataset/yes/._Y253.JPG  \n",
      "  inflating: brain_tumor_dataset/yes/Y21.jpg  \n",
      "  inflating: __MACOSX/brain_tumor_dataset/yes/._Y21.jpg  \n",
      "  inflating: brain_tumor_dataset/yes/Y35.jpg  \n",
      "  inflating: __MACOSX/brain_tumor_dataset/yes/._Y35.jpg  \n",
      "  inflating: brain_tumor_dataset/yes/Y34.jpg  \n",
      "  inflating: __MACOSX/brain_tumor_dataset/yes/._Y34.jpg  \n",
      "  inflating: brain_tumor_dataset/yes/Y20.jpg  \n",
      "  inflating: __MACOSX/brain_tumor_dataset/yes/._Y20.jpg  \n",
      "  inflating: brain_tumor_dataset/yes/Y252.jpg  \n",
      "  inflating: __MACOSX/brain_tumor_dataset/yes/._Y252.jpg  \n",
      "  inflating: brain_tumor_dataset/yes/Y246.JPG  \n",
      "  inflating: __MACOSX/brain_tumor_dataset/yes/._Y246.JPG  \n",
      "  inflating: brain_tumor_dataset/yes/Y115.JPG  \n",
      "  inflating: __MACOSX/brain_tumor_dataset/yes/._Y115.JPG  \n",
      "  inflating: brain_tumor_dataset/yes/Y101.jpg  \n",
      "  inflating: __MACOSX/brain_tumor_dataset/yes/._Y101.jpg  \n",
      "  inflating: brain_tumor_dataset/yes/Y39.jpg  \n",
      "  inflating: __MACOSX/brain_tumor_dataset/yes/._Y39.jpg  \n",
      "  inflating: brain_tumor_dataset/yes/Y11.jpg  \n",
      "  inflating: __MACOSX/brain_tumor_dataset/yes/._Y11.jpg  \n",
      "  inflating: brain_tumor_dataset/yes/Y10.jpg  \n",
      "  inflating: __MACOSX/brain_tumor_dataset/yes/._Y10.jpg  \n",
      "  inflating: brain_tumor_dataset/yes/Y38.jpg  \n",
      "  inflating: __MACOSX/brain_tumor_dataset/yes/._Y38.jpg  \n",
      "  inflating: brain_tumor_dataset/yes/Y100.JPG  \n",
      "  inflating: __MACOSX/brain_tumor_dataset/yes/._Y100.JPG  \n",
      "  inflating: brain_tumor_dataset/yes/Y114.JPG  \n",
      "  inflating: __MACOSX/brain_tumor_dataset/yes/._Y114.JPG  \n",
      "  inflating: brain_tumor_dataset/yes/Y102.jpg  \n",
      "  inflating: __MACOSX/brain_tumor_dataset/yes/._Y102.jpg  \n",
      "  inflating: brain_tumor_dataset/yes/Y116.JPG  \n",
      "  inflating: __MACOSX/brain_tumor_dataset/yes/._Y116.JPG  \n",
      "  inflating: brain_tumor_dataset/yes/Y248.JPG  \n",
      "  inflating: __MACOSX/brain_tumor_dataset/yes/._Y248.JPG  \n",
      "  inflating: brain_tumor_dataset/yes/Y12.jpg  \n",
      "  inflating: __MACOSX/brain_tumor_dataset/yes/._Y12.jpg  \n",
      "  inflating: brain_tumor_dataset/yes/Y13.jpg  \n",
      "  inflating: __MACOSX/brain_tumor_dataset/yes/._Y13.jpg  \n",
      "  inflating: brain_tumor_dataset/yes/Y249.JPG  \n",
      "  inflating: __MACOSX/brain_tumor_dataset/yes/._Y249.JPG  \n",
      "  inflating: brain_tumor_dataset/yes/Y117.JPG  \n",
      "  inflating: __MACOSX/brain_tumor_dataset/yes/._Y117.JPG  \n",
      "  inflating: brain_tumor_dataset/yes/Y103.jpg  \n",
      "  inflating: __MACOSX/brain_tumor_dataset/yes/._Y103.jpg  \n",
      "  inflating: brain_tumor_dataset/yes/Y107.jpg  \n",
      "  inflating: __MACOSX/brain_tumor_dataset/yes/._Y107.jpg  \n",
      "  inflating: brain_tumor_dataset/yes/Y113.JPG  \n",
      "  inflating: __MACOSX/brain_tumor_dataset/yes/._Y113.JPG  \n",
      "  inflating: brain_tumor_dataset/yes/Y259.JPG  \n",
      "  inflating: __MACOSX/brain_tumor_dataset/yes/._Y259.JPG  \n",
      "  inflating: brain_tumor_dataset/yes/Y17.jpg  \n",
      "  inflating: __MACOSX/brain_tumor_dataset/yes/._Y17.jpg  \n",
      "  inflating: brain_tumor_dataset/yes/Y16.JPG  \n",
      "  inflating: __MACOSX/brain_tumor_dataset/yes/._Y16.JPG  \n",
      "  inflating: brain_tumor_dataset/yes/Y258.JPG  \n",
      "  inflating: __MACOSX/brain_tumor_dataset/yes/._Y258.JPG  \n",
      "  inflating: brain_tumor_dataset/yes/Y112.JPG  \n",
      "  inflating: __MACOSX/brain_tumor_dataset/yes/._Y112.JPG  \n",
      "  inflating: brain_tumor_dataset/yes/Y106.jpg  \n",
      "  inflating: __MACOSX/brain_tumor_dataset/yes/._Y106.jpg  \n",
      "  inflating: brain_tumor_dataset/yes/Y104.jpg  \n",
      "  inflating: __MACOSX/brain_tumor_dataset/yes/._Y104.jpg  \n",
      "  inflating: brain_tumor_dataset/yes/Y14.jpg  \n",
      "  inflating: __MACOSX/brain_tumor_dataset/yes/._Y14.jpg  \n",
      "  inflating: brain_tumor_dataset/yes/Y28.jpg  \n",
      "  inflating: __MACOSX/brain_tumor_dataset/yes/._Y28.jpg  \n",
      "  inflating: brain_tumor_dataset/yes/Y29.jpg  \n",
      "  inflating: __MACOSX/brain_tumor_dataset/yes/._Y29.jpg  \n",
      "  inflating: brain_tumor_dataset/yes/Y15.jpg  \n",
      "  inflating: __MACOSX/brain_tumor_dataset/yes/._Y15.jpg  \n",
      "  inflating: brain_tumor_dataset/yes/Y105.jpg  \n",
      "  inflating: __MACOSX/brain_tumor_dataset/yes/._Y105.jpg  \n",
      "  inflating: brain_tumor_dataset/yes/Y111.JPG  \n",
      "  inflating: __MACOSX/brain_tumor_dataset/yes/._Y111.JPG  \n",
      "  inflating: brain_tumor_dataset/yes/Y162.jpg  \n",
      "  inflating: __MACOSX/brain_tumor_dataset/yes/._Y162.jpg  \n",
      "  inflating: brain_tumor_dataset/yes/Y99.JPG  \n",
      "  inflating: __MACOSX/brain_tumor_dataset/yes/._Y99.JPG  \n",
      "  inflating: brain_tumor_dataset/yes/Y66.JPG  \n",
      "  inflating: __MACOSX/brain_tumor_dataset/yes/._Y66.JPG  \n",
      "  inflating: brain_tumor_dataset/yes/Y73.jpg  \n",
      "  inflating: __MACOSX/brain_tumor_dataset/yes/._Y73.jpg  \n",
      "  inflating: brain_tumor_dataset/yes/Y67.JPG  \n",
      "  inflating: __MACOSX/brain_tumor_dataset/yes/._Y67.JPG  \n",
      "  inflating: brain_tumor_dataset/yes/Y98.JPG  \n",
      "  inflating: __MACOSX/brain_tumor_dataset/yes/._Y98.JPG  \n",
      "  inflating: brain_tumor_dataset/yes/Y188.jpg  \n",
      "  inflating: __MACOSX/brain_tumor_dataset/yes/._Y188.jpg  \n",
      "  inflating: brain_tumor_dataset/yes/Y163.JPG  \n",
      "  inflating: __MACOSX/brain_tumor_dataset/yes/._Y163.JPG  \n",
      "  inflating: brain_tumor_dataset/yes/Y161.JPG  \n",
      "  inflating: __MACOSX/brain_tumor_dataset/yes/._Y161.JPG  \n",
      "  inflating: brain_tumor_dataset/yes/Y59.JPG  \n",
      "  inflating: __MACOSX/brain_tumor_dataset/yes/._Y59.JPG  \n",
      "  inflating: brain_tumor_dataset/yes/Y71.JPG  \n",
      "  inflating: __MACOSX/brain_tumor_dataset/yes/._Y71.JPG  \n",
      "  inflating: brain_tumor_dataset/yes/Y65.JPG  \n",
      "  inflating: __MACOSX/brain_tumor_dataset/yes/._Y65.JPG  \n",
      "  inflating: brain_tumor_dataset/yes/Y70.jpg  \n",
      "  inflating: __MACOSX/brain_tumor_dataset/yes/._Y70.jpg  \n",
      "  inflating: brain_tumor_dataset/yes/Y58.JPG  \n",
      "  inflating: __MACOSX/brain_tumor_dataset/yes/._Y58.JPG  \n",
      "  inflating: brain_tumor_dataset/yes/Y160.JPG  \n",
      "  inflating: __MACOSX/brain_tumor_dataset/yes/._Y160.JPG  \n",
      "  inflating: brain_tumor_dataset/yes/Y148.JPG  \n",
      "  inflating: __MACOSX/brain_tumor_dataset/yes/._Y148.JPG  \n",
      "  inflating: brain_tumor_dataset/yes/Y164.JPG  \n",
      "  inflating: __MACOSX/brain_tumor_dataset/yes/._Y164.JPG  \n",
      "  inflating: brain_tumor_dataset/yes/Y170.JPG  \n",
      "  inflating: __MACOSX/brain_tumor_dataset/yes/._Y170.JPG  \n",
      "  inflating: brain_tumor_dataset/yes/Y158.JPG  \n",
      "  inflating: __MACOSX/brain_tumor_dataset/yes/._Y158.JPG  \n",
      "  inflating: brain_tumor_dataset/yes/Y9.jpg  \n",
      "  inflating: __MACOSX/brain_tumor_dataset/yes/._Y9.jpg  \n",
      "  inflating: brain_tumor_dataset/yes/Y74.jpg  \n",
      "  inflating: __MACOSX/brain_tumor_dataset/yes/._Y74.jpg  \n",
      "  inflating: brain_tumor_dataset/yes/Y60.jpg  \n",
      "  inflating: __MACOSX/brain_tumor_dataset/yes/._Y60.jpg  \n",
      "  inflating: brain_tumor_dataset/yes/Y49.JPG  \n",
      "  inflating: __MACOSX/brain_tumor_dataset/yes/._Y49.JPG  \n",
      "  inflating: brain_tumor_dataset/yes/Y61.jpg  \n",
      "  inflating: __MACOSX/brain_tumor_dataset/yes/._Y61.jpg  \n",
      "  inflating: brain_tumor_dataset/yes/Y75.JPG  \n",
      "  inflating: __MACOSX/brain_tumor_dataset/yes/._Y75.JPG  \n",
      "  inflating: brain_tumor_dataset/yes/Y8.jpg  \n",
      "  inflating: __MACOSX/brain_tumor_dataset/yes/._Y8.jpg  \n",
      "  inflating: brain_tumor_dataset/yes/Y159.JPG  \n",
      "  inflating: __MACOSX/brain_tumor_dataset/yes/._Y159.JPG  \n",
      "  inflating: brain_tumor_dataset/yes/Y165.JPG  \n",
      "  inflating: __MACOSX/brain_tumor_dataset/yes/._Y165.JPG  \n",
      "  inflating: brain_tumor_dataset/yes/Y167.JPG  \n",
      "  inflating: __MACOSX/brain_tumor_dataset/yes/._Y167.JPG  \n",
      "  inflating: brain_tumor_dataset/yes/Y77.jpg  \n",
      "  inflating: __MACOSX/brain_tumor_dataset/yes/._Y77.jpg  \n",
      "  inflating: brain_tumor_dataset/yes/Y76.jpg  \n",
      "  inflating: __MACOSX/brain_tumor_dataset/yes/._Y76.jpg  \n",
      "  inflating: brain_tumor_dataset/yes/Y62.jpg  \n",
      "  inflating: __MACOSX/brain_tumor_dataset/yes/._Y62.jpg  \n",
      "  inflating: brain_tumor_dataset/yes/Y89.JPG  \n",
      "  inflating: __MACOSX/brain_tumor_dataset/yes/._Y89.JPG  \n",
      "  inflating: brain_tumor_dataset/yes/Y166.JPG  \n",
      "  inflating: __MACOSX/brain_tumor_dataset/yes/._Y166.JPG  \n",
      "/bin/bash: pwdy: command not found\n"
     ]
    }
   ],
   "source": [
    "!ls '/content/drive/MyDrive/INFO 7374/Exercise/brain_tumor_dataset.zip'\n",
    "!unzip '/content/drive/MyDrive/INFO 7374/Exercise/brain_tumor_dataset.zip'\n",
    "!pwdy"
   ]
  },
  {
   "cell_type": "code",
   "execution_count": null,
   "metadata": {
    "colab": {
     "base_uri": "https://localhost:8080/"
    },
    "executionInfo": {
     "elapsed": 436,
     "status": "ok",
     "timestamp": 1617597976383,
     "user": {
      "displayName": "Jiaoli Yang",
      "photoUrl": "",
      "userId": "05005355606636311294"
     },
     "user_tz": 420
    },
    "id": "e0PaoPXy75x5",
    "outputId": "64644f1c-e7ca-4213-83f7-53e66bc97555"
   },
   "outputs": [
    {
     "name": "stdout",
     "output_type": "stream",
     "text": [
      "no  yes\n"
     ]
    }
   ],
   "source": [
    "!ls /content/brain_tumor_dataset/"
   ]
  },
  {
   "cell_type": "code",
   "execution_count": null,
   "metadata": {
    "id": "pHTFIRI_1H5s"
   },
   "outputs": [],
   "source": [
    "#!rm -rf brain_tumor_dataset"
   ]
  },
  {
   "cell_type": "code",
   "execution_count": null,
   "metadata": {
    "id": "RGUhxUaW8Aoo"
   },
   "outputs": [],
   "source": [
    "# # Alternative method to unzip\n",
    "# local_zip = '/content/tmp/brain_tumor_dataset.zip'\n",
    "# zip_ref = zipfile.ZipFile(local_zip, 'r')\n",
    "# zip_ref.extractall('/tmp')\n",
    "# zip_ref.close()\n",
    "\n",
    "# print(len(os.listdir('/content/brain_tumor_dataset/yes/')))\n",
    "# print(len(os.listdir('/content/brain_tumor_dataset/no/')))"
   ]
  },
  {
   "cell_type": "markdown",
   "metadata": {
    "id": "FxiFGLpKGXjH"
   },
   "source": [
    " ## 2.Randomly Select 5 Images from all images"
   ]
  },
  {
   "cell_type": "markdown",
   "metadata": {
    "id": "I_fydrm3JAlI"
   },
   "source": [
    "2.1 Combine all images and randomly select 5 images"
   ]
  },
  {
   "cell_type": "code",
   "execution_count": null,
   "metadata": {
    "colab": {
     "base_uri": "https://localhost:8080/"
    },
    "executionInfo": {
     "elapsed": 280,
     "status": "ok",
     "timestamp": 1617597983410,
     "user": {
      "displayName": "Jiaoli Yang",
      "photoUrl": "",
      "userId": "05005355606636311294"
     },
     "user_tz": 420
    },
    "id": "MZvBIhtyBNAf",
    "outputId": "6abd0fb4-7737-4f69-ec7a-02c7e58e3823"
   },
   "outputs": [
    {
     "name": "stdout",
     "output_type": "stream",
     "text": [
      "yes: 155\n",
      "no: 98\n",
      "***********************************\n",
      "Total images:  253\n",
      "Select images:  5\n",
      "['19 no.jpg', '31 no.jpg', 'Y250.jpg', '33 no.jpg', 'Y161.JPG']\n",
      "yes: 155\n",
      "no: 98\n",
      "***********************************\n"
     ]
    }
   ],
   "source": [
    "import os, random, shutil\n",
    "SOURCE_DIR = \"/content/brain_tumor_dataset/\"\n",
    "ALLFILE_DIR =  \"/content/brain_tumor_dataset/all_image\"\n",
    "CATEGORY = ['yes','no']\n",
    "\n",
    "try:\n",
    "    os.mkdir(ALLFILE_DIR)\n",
    "except OSError:\n",
    "        pass\n",
    "\n",
    "for category in CATEGORY:\n",
    "    FileNames = os.listdir(SOURCE_DIR +category)\n",
    "    print(category + \": \" +  str(len(FileNames)))\n",
    "    FileNames = os.listdir(SOURCE_DIR + category)\n",
    "    for name in FileNames:\n",
    "        shutil.copy(os.path.join(SOURCE_DIR + category, name), os.path.join(ALLFILE_DIR, name))\n",
    "\n",
    "\n",
    "all_file = os.listdir(ALLFILE_DIR)\n",
    "sample = random.sample(all_file, 5)\n",
    "print(\"***********************************\")\n",
    "print('Total images: ', len(all_file))\n",
    "print('Select images: ', len(sample))\n",
    "print(sample)\n",
    "#print('Remaining images for split: ', len(all_file) - len(test_sample))\n",
    "\n",
    "for category in CATEGORY:\n",
    "    FileNames = os.listdir(SOURCE_DIR +category)\n",
    "    print(category + \": \" +  str(len(FileNames)))\n",
    "    \n",
    "print(\"***********************************\")"
   ]
  },
  {
   "cell_type": "markdown",
   "metadata": {
    "id": "sHlxonT0HiMo"
   },
   "source": [
    "2.2 Copy sample data to sample file and remove them from original file)"
   ]
  },
  {
   "cell_type": "code",
   "execution_count": null,
   "metadata": {
    "colab": {
     "base_uri": "https://localhost:8080/"
    },
    "executionInfo": {
     "elapsed": 262,
     "status": "ok",
     "timestamp": 1617597989672,
     "user": {
      "displayName": "Jiaoli Yang",
      "photoUrl": "",
      "userId": "05005355606636311294"
     },
     "user_tz": 420
    },
    "id": "GTh1M_gwIF4R",
    "outputId": "c68f5826-92b9-4714-9c7c-f3cb41c519e0"
   },
   "outputs": [
    {
     "name": "stdout",
     "output_type": "stream",
     "text": [
      "*********After removing sample data****************\n",
      "Current file yes : 153\n",
      "Current file no : 95\n",
      "***********************************\n"
     ]
    }
   ],
   "source": [
    "#rm -rf '/content/brain_tumor_dataset/'\n",
    "SAMPLE_DIR = \"/content/brain_tumor_dataset/sample\"\n",
    "try:\n",
    "    os.mkdir(SAMPLE_DIR)\n",
    "except OSError:\n",
    "        pass\n",
    "\n",
    "for tmp_sample in sample:\n",
    "    for category in CATEGORY:\n",
    "        if(tmp_sample) in  os.listdir(os.path.join(SOURCE_DIR,category)):\n",
    "            print(\"This sample image: \" + tmp_sample +  \" , original files is : \" + category)\n",
    "            shutil.move(os.path.join(SOURCE_DIR,category,tmp_sample),os.path.join(SAMPLE_DIR,tmp_sample))\n",
    "\n",
    "print(\"*********After removing sample data****************\")\n",
    "for category in CATEGORY:\n",
    "    dir = os.path.join(SOURCE_DIR,category)\n",
    "    print(\"Current file\" ,category,':',len(os.listdir(dir)))\n",
    "\n",
    "\n",
    "print(\"***********************************\")"
   ]
  },
  {
   "cell_type": "markdown",
   "metadata": {
    "id": "Pxet2zS6PXx0"
   },
   "source": [
    "## 3. Spilt training data and validation data"
   ]
  },
  {
   "cell_type": "code",
   "execution_count": null,
   "metadata": {
    "colab": {
     "base_uri": "https://localhost:8080/"
    },
    "executionInfo": {
     "elapsed": 993,
     "status": "ok",
     "timestamp": 1617597993583,
     "user": {
      "displayName": "Jiaoli Yang",
      "photoUrl": "",
      "userId": "05005355606636311294"
     },
     "user_tz": 420
    },
    "id": "xLJ58arj_qqK",
    "outputId": "d849d59f-81c2-4a89-83a2-413caf21fb66"
   },
   "outputs": [
    {
     "name": "stdout",
     "output_type": "stream",
     "text": [
      "Train_dir : /content/brain_tumor_dataset/train\n",
      "Test_dir/content/brain_tumor_dataset/test\n",
      "Train_dir_for_category/content/brain_tumor_dataset/train/yes\n",
      "Test_dir_for_category/content/brain_tumor_dataset/test/yes\n",
      "*****************************\n",
      "Total images:  153\n",
      "Training:  137\n",
      "Testing:  16\n",
      "*****************************\n",
      "0\n",
      "0\n",
      "Copying Done!\n",
      "Train_dir : /content/brain_tumor_dataset/train\n",
      "Test_dir/content/brain_tumor_dataset/test\n",
      "Train_dir_for_category/content/brain_tumor_dataset/train/no\n",
      "Test_dir_for_category/content/brain_tumor_dataset/test/no\n",
      "*****************************\n",
      "Total images:  95\n",
      "Training:  85\n",
      "Testing:  10\n",
      "*****************************\n",
      "0\n",
      "0\n",
      "Copying Done!\n"
     ]
    }
   ],
   "source": [
    "def split_data(SOURCE, CATEGORY, SPLIT_SIZE):\n",
    "    import numpy as np\n",
    "    import shutil\n",
    "\n",
    "    allFileNames = os.listdir(SOURCE + CATEGORY)\n",
    "    #print(allFileNames)\n",
    "\n",
    "    for file in allFileNames:\n",
    "      if os.stat(os.path.join(SOURCE + CATEGORY, file)).st_size == 0:\n",
    "        print (\"Empty file found: \" + file)\n",
    "        allFileNames.remove(file)\n",
    "\n",
    "    for file in allFileNames:\n",
    "      img = cv2.imread(os.path.join(SOURCE + CATEGORY, file))\n",
    "      #print(img.shape)\n",
    "\n",
    "    # Use os.mkdir to create your directories\n",
    "    # You will need a subdirectories for training\n",
    "    # and testing. These in turn will need subdirectories for 'yes' and 'no'\n",
    "    train_dir = os.path.join(SOURCE, 'train')\n",
    "    test_dir = os.path.join(SOURCE, 'test')\n",
    "    train_dir_for_category = os.path.join(train_dir, CATEGORY)\n",
    "    test_dir_for_category = os.path.join(test_dir, CATEGORY)\n",
    "    print('Train_dir : '+ train_dir)\n",
    "    print('Test_dir' + test_dir)\n",
    "    print('Train_dir_for_category' + train_dir_for_category)\n",
    "    print('Test_dir_for_category' + test_dir_for_category)\n",
    "    try:\n",
    "      os.mkdir(train_dir)\n",
    "      os.mkdir(test_dir)\n",
    "    except OSError:\n",
    "        pass\n",
    "\n",
    "    train_FileNames, test_FileNames = np.split(np.array(allFileNames), [int(len(allFileNames)* (SPLIT_SIZE))])\n",
    "\n",
    "    print(\"*****************************\")\n",
    "    print('Total images: ', len(allFileNames))\n",
    "    print('Training: ', len(train_FileNames))\n",
    "    print('Testing: ', len(test_FileNames))\n",
    "    print(\"*****************************\")\n",
    "    \n",
    "    # Create destination directories\n",
    "    try:\n",
    "      os.mkdir(train_dir_for_category)\n",
    "      os.mkdir(test_dir_for_category)\n",
    "    except OSError:\n",
    "        pass\n",
    "    \n",
    "    # Ensure there are no stale files in destination directories\n",
    "    for file in os.scandir(train_dir_for_category):\n",
    "        os.remove(file.path)\n",
    "        \n",
    "    for file in os.scandir(test_dir_for_category):\n",
    "        os.remove(file.path)\n",
    "        \n",
    "    print(len(os.listdir(train_dir_for_category)))\n",
    "    print(len(os.listdir(test_dir_for_category)))\n",
    "    \n",
    "    for name in train_FileNames:\n",
    "      #print(name)\n",
    "      #print(os.path.join(SOURCE + CATEGORY, name))\n",
    "      #print(os.path.join(train_dir_for_category, name))\n",
    "      shutil.copy(os.path.join(SOURCE + CATEGORY, name), os.path.join(train_dir_for_category, name))\n",
    "\n",
    "    for name in test_FileNames:\n",
    "        dest = shutil.copy(os.path.join(SOURCE + CATEGORY, name), os.path.join(test_dir_for_category, name))\n",
    "    print(\"Copying Done!\")\n",
    "\n",
    "    # Optionally remove original files\n",
    "    for file in os.scandir(SOURCE + CATEGORY):\n",
    "        os.remove(file.path)\n",
    "    os.removedirs(SOURCE + CATEGORY)\n",
    "\n",
    "SOURCE_DIR = \"/content/brain_tumor_dataset/\"\n",
    "YES_SUB_DIR = \"yes\"\n",
    "NO_SUB_DIR = \"no\"\n",
    "CATEGORIES = [NO_SUB_DIR,YES_SUB_DIR]\n",
    "train_dir = os.path.join(SOURCE_DIR, 'train')\n",
    "test_dir = os.path.join(SOURCE_DIR, 'test')\n",
    "\n",
    "split_size = .9 # 90% training, 10% test\n",
    "split_data(SOURCE_DIR, YES_SUB_DIR, split_size)\n",
    "split_data(SOURCE_DIR, NO_SUB_DIR, split_size)"
   ]
  },
  {
   "cell_type": "markdown",
   "metadata": {
    "id": "K30JuHM9DzJo"
   },
   "source": [
    "## 4.Data Augmentation"
   ]
  },
  {
   "cell_type": "code",
   "execution_count": null,
   "metadata": {
    "colab": {
     "base_uri": "https://localhost:8080/"
    },
    "executionInfo": {
     "elapsed": 1057,
     "status": "ok",
     "timestamp": 1617597997392,
     "user": {
      "displayName": "Jiaoli Yang",
      "photoUrl": "",
      "userId": "05005355606636311294"
     },
     "user_tz": 420
    },
    "id": "R6XeFMUcJ-Wt",
    "outputId": "f773aa4d-77fc-45d4-ccd7-2499e3ffdabd"
   },
   "outputs": [
    {
     "name": "stdout",
     "output_type": "stream",
     "text": [
      "168\n",
      "150\n",
      "223\n",
      "196\n",
      "target size(min): 150\n",
      "Found 222 images belonging to 2 classes.\n",
      "Found 26 images belonging to 2 classes.\n"
     ]
    }
   ],
   "source": [
    "train_datagen = ImageDataGenerator(\n",
    "      rescale=1./255,\n",
    "      rotation_range=25,\n",
    "      width_shift_range=0.05,\n",
    "      height_shift_range=0.05,\n",
    "      shear_range=0.1,\n",
    "      zoom_range=0.2,\n",
    "      horizontal_flip=True,\n",
    "      vertical_flip = True,\n",
    "      brightness_range=[0.3, 1.5],\n",
    "      fill_mode='nearest')\n",
    "\n",
    "heights = []\n",
    "widths = []\n",
    "for category in CATEGORIES:\n",
    "  for file in os.listdir(os.path.join(os.path.join(SOURCE_DIR, 'train'), category)):\n",
    "    img = cv2.imread(os.path.join(os.path.join(os.path.join(SOURCE_DIR, 'train'), category), file))\n",
    "    h, w, c = img.shape\n",
    "    heights.append(int(h))\n",
    "    widths.append(int(w))\n",
    "\n",
    "print(min(heights))\n",
    "print(min(widths))\n",
    "\n",
    "test_heights = []\n",
    "test_widths = []\n",
    "for category in CATEGORIES:\n",
    "  for file in os.listdir(os.path.join(os.path.join(SOURCE_DIR, 'test'), category)):\n",
    "    img = cv2.imread(os.path.join(os.path.join(os.path.join(SOURCE_DIR, 'test'), category), file))\n",
    "    h, w, c = img.shape\n",
    "    test_heights.append(int(h))\n",
    "    test_widths.append(int(w))\n",
    "   \n",
    "print(min(test_heights))\n",
    "print(min(test_widths))\n",
    "\n",
    "min_height = min(min(heights), min(test_heights))\n",
    "min_width = min(min(widths), min(test_widths))\n",
    "target = min(min_height, min_width)\n",
    "print('target size(min):',target)\n",
    "\n",
    "train_generator = train_datagen.flow_from_directory(\n",
    "    train_dir,\n",
    "    batch_size=20,\n",
    "    class_mode='binary', \n",
    "    target_size=(target, target))\n",
    "\n",
    "test_datagen = ImageDataGenerator( rescale = 1.0/255. )\n",
    "\n",
    "validation_generator = test_datagen.flow_from_directory(\n",
    "    test_dir,\n",
    "    batch_size=20,\n",
    "    class_mode='binary',\n",
    "    target_size=(target, target))"
   ]
  },
  {
   "cell_type": "markdown",
   "metadata": {
    "id": "fHAFyzhtFaXS"
   },
   "source": [
    "USE VGG16"
   ]
  },
  {
   "cell_type": "code",
   "execution_count": null,
   "metadata": {
    "id": "b5QzIOs_FZ1b"
   },
   "outputs": [],
   "source": [
    "from keras.applications import VGG16\n",
    "\n",
    "VGG_model = VGG16(weights = 'imagenet',\n",
    "                   include_top = False,\n",
    "                   input_shape = (target,target,3))"
   ]
  },
  {
   "cell_type": "markdown",
   "metadata": {
    "id": "-MrwTb16mmZ5"
   },
   "source": [
    "## 5 Build a model without Dropout and Hyperparameter tunning\n"
   ]
  },
  {
   "cell_type": "code",
   "execution_count": null,
   "metadata": {
    "colab": {
     "base_uri": "https://localhost:8080/"
    },
    "executionInfo": {
     "elapsed": 456,
     "status": "ok",
     "timestamp": 1617598004020,
     "user": {
      "displayName": "Jiaoli Yang",
      "photoUrl": "",
      "userId": "05005355606636311294"
     },
     "user_tz": 420
    },
    "id": "-EzBzQweHihG",
    "outputId": "1a142293-177b-495e-f745-7159f9dc0e5e"
   },
   "outputs": [
    {
     "name": "stdout",
     "output_type": "stream",
     "text": [
      "Model: \"sequential\"\n",
      "_________________________________________________________________\n",
      "Layer (type)                 Output Shape              Param #   \n",
      "=================================================================\n",
      "vgg16 (Functional)           (None, 4, 4, 512)         14714688  \n",
      "_________________________________________________________________\n",
      "flatten (Flatten)            (None, 8192)              0         \n",
      "_________________________________________________________________\n",
      "dense (Dense)                (None, 128)               1048704   \n",
      "_________________________________________________________________\n",
      "dense_1 (Dense)              (None, 64)                8256      \n",
      "_________________________________________________________________\n",
      "batch_normalization (BatchNo (None, 64)                256       \n",
      "_________________________________________________________________\n",
      "dense_2 (Dense)              (None, 1)                 65        \n",
      "=================================================================\n",
      "Total params: 15,771,969\n",
      "Trainable params: 1,057,153\n",
      "Non-trainable params: 14,714,816\n",
      "_________________________________________________________________\n"
     ]
    }
   ],
   "source": [
    "model_withoutDropout = tf.keras.Sequential()\n",
    "model_withoutDropout.add(VGG_model)\n",
    "model_withoutDropout.add(layers.Flatten())\n",
    "model_withoutDropout.add(Dense(128, activation = 'relu'),)\n",
    "model_withoutDropout.add(Dense(64, activation = 'relu'))\n",
    "model_withoutDropout.add(BatchNormalization())\n",
    "model_withoutDropout.add(Dense(1, activation = 'sigmoid'))\n",
    "\n",
    "model_withoutDropout.layers[0].trainable = False\n",
    "\n",
    "model_withoutDropout.compile(\n",
    "    loss='binary_crossentropy',\n",
    "    optimizer = 'adam',\n",
    "    metrics=['accuracy']\n",
    ")\n",
    "\n",
    "model_withoutDropout.summary()"
   ]
  },
  {
   "cell_type": "code",
   "execution_count": null,
   "metadata": {
    "colab": {
     "base_uri": "https://localhost:8080/"
    },
    "executionInfo": {
     "elapsed": 1110686,
     "status": "ok",
     "timestamp": 1617599115912,
     "user": {
      "displayName": "Jiaoli Yang",
      "photoUrl": "",
      "userId": "05005355606636311294"
     },
     "user_tz": 420
    },
    "id": "PAvVqpNCMZnC",
    "outputId": "75dc95e1-cd7a-4c81-89b2-dd60b7d0e466"
   },
   "outputs": [
    {
     "name": "stderr",
     "output_type": "stream",
     "text": [
      "/usr/local/lib/python3.7/dist-packages/tensorflow/python/keras/engine/training.py:1844: UserWarning: `Model.fit_generator` is deprecated and will be removed in a future version. Please use `Model.fit`, which supports generators.\n",
      "  warnings.warn('`Model.fit_generator` is deprecated and '\n"
     ]
    },
    {
     "name": "stdout",
     "output_type": "stream",
     "text": [
      "Epoch 1/20\n",
      "12/12 [==============================] - 57s 5s/step - loss: 0.6761 - accuracy: 0.6771 - val_loss: 0.8506 - val_accuracy: 0.6538\n",
      "Epoch 2/20\n",
      "12/12 [==============================] - 55s 5s/step - loss: 0.4307 - accuracy: 0.7990 - val_loss: 0.7364 - val_accuracy: 0.6538\n",
      "Epoch 3/20\n",
      "12/12 [==============================] - 55s 5s/step - loss: 0.3901 - accuracy: 0.8025 - val_loss: 0.4048 - val_accuracy: 0.7692\n",
      "Epoch 4/20\n",
      "12/12 [==============================] - 55s 5s/step - loss: 0.4887 - accuracy: 0.7533 - val_loss: 0.7986 - val_accuracy: 0.6923\n",
      "Epoch 5/20\n",
      "12/12 [==============================] - 55s 5s/step - loss: 0.3723 - accuracy: 0.8720 - val_loss: 0.4662 - val_accuracy: 0.7308\n",
      "Epoch 6/20\n",
      "12/12 [==============================] - 55s 5s/step - loss: 0.3308 - accuracy: 0.8668 - val_loss: 0.3571 - val_accuracy: 0.8846\n",
      "Epoch 7/20\n",
      "12/12 [==============================] - 55s 5s/step - loss: 0.3855 - accuracy: 0.7893 - val_loss: 0.3189 - val_accuracy: 0.8846\n",
      "Epoch 8/20\n",
      "12/12 [==============================] - 55s 5s/step - loss: 0.3367 - accuracy: 0.8561 - val_loss: 0.3363 - val_accuracy: 0.7692\n",
      "Epoch 9/20\n",
      "12/12 [==============================] - 55s 5s/step - loss: 0.2904 - accuracy: 0.9047 - val_loss: 0.3071 - val_accuracy: 0.8462\n",
      "Epoch 10/20\n",
      "12/12 [==============================] - 55s 5s/step - loss: 0.3149 - accuracy: 0.8754 - val_loss: 0.2647 - val_accuracy: 0.9615\n",
      "Epoch 11/20\n",
      "12/12 [==============================] - 55s 5s/step - loss: 0.3327 - accuracy: 0.8446 - val_loss: 0.2913 - val_accuracy: 0.8846\n",
      "Epoch 12/20\n",
      "12/12 [==============================] - 55s 5s/step - loss: 0.2892 - accuracy: 0.8904 - val_loss: 0.3300 - val_accuracy: 0.8462\n",
      "Epoch 13/20\n",
      "12/12 [==============================] - 56s 5s/step - loss: 0.4021 - accuracy: 0.7957 - val_loss: 0.2735 - val_accuracy: 0.8846\n",
      "Epoch 14/20\n",
      "12/12 [==============================] - 55s 5s/step - loss: 0.2597 - accuracy: 0.9016 - val_loss: 0.2866 - val_accuracy: 0.8077\n",
      "Epoch 15/20\n",
      "12/12 [==============================] - 55s 5s/step - loss: 0.2456 - accuracy: 0.8668 - val_loss: 0.2678 - val_accuracy: 0.8462\n",
      "Epoch 16/20\n",
      "12/12 [==============================] - 55s 5s/step - loss: 0.2733 - accuracy: 0.8910 - val_loss: 0.3666 - val_accuracy: 0.8077\n",
      "Epoch 17/20\n",
      "12/12 [==============================] - 55s 5s/step - loss: 0.2590 - accuracy: 0.9043 - val_loss: 0.3688 - val_accuracy: 0.8077\n",
      "Epoch 18/20\n",
      "12/12 [==============================] - 56s 5s/step - loss: 0.3058 - accuracy: 0.8610 - val_loss: 0.2843 - val_accuracy: 0.8462\n",
      "Epoch 19/20\n",
      "12/12 [==============================] - 56s 5s/step - loss: 0.3220 - accuracy: 0.8715 - val_loss: 0.2363 - val_accuracy: 0.9231\n",
      "Epoch 20/20\n",
      "12/12 [==============================] - 56s 5s/step - loss: 0.2659 - accuracy: 0.9246 - val_loss: 0.2546 - val_accuracy: 0.9231\n"
     ]
    }
   ],
   "source": [
    "history_withoutDropout = model_withoutDropout.fit_generator(\n",
    "    train_generator,\n",
    "    validation_data=validation_generator,\n",
    "    epochs=20\n",
    "    )"
   ]
  },
  {
   "cell_type": "code",
   "execution_count": null,
   "metadata": {
    "id": "EvAvL8zvESPS"
   },
   "outputs": [],
   "source": [
    "def plot_accuracy(history):\n",
    "    acc = history.history['accuracy']\n",
    "    val_acc = history.history['val_accuracy']\n",
    "\n",
    "    loss = history.history['loss']\n",
    "    val_loss = history.history['val_loss']\n",
    "\n",
    "    epochs_range = range(len(acc))\n",
    "\n",
    "    plt.figure(figsize=(8, 8))\n",
    "    plt.subplot(1, 2, 1)\n",
    "    plt.plot(epochs_range, acc, label='Training Accuracy')\n",
    "    plt.plot(epochs_range, val_acc, label='Validation Accuracy')\n",
    "    plt.legend(loc='lower right')\n",
    "    plt.title('Training and Validation Accuracy')\n",
    "\n",
    "    plt.subplot(1, 2, 2)\n",
    "    plt.plot(epochs_range, loss, label='Training Loss')\n",
    "    plt.plot(epochs_range, val_loss, label='Validation Loss')\n",
    "    plt.legend(loc='upper right')\n",
    "    plt.title('Training and Validation Loss')"
   ]
  },
  {
   "cell_type": "code",
   "execution_count": null,
   "metadata": {
    "colab": {
     "base_uri": "https://localhost:8080/",
     "height": 499
    },
    "executionInfo": {
     "elapsed": 817,
     "status": "ok",
     "timestamp": 1617599128894,
     "user": {
      "displayName": "Jiaoli Yang",
      "photoUrl": "",
      "userId": "05005355606636311294"
     },
     "user_tz": 420
    },
    "id": "uoqendUKroEe",
    "outputId": "1b8dc971-6f8d-4b4e-fdfa-17abe4b30cfd"
   },
   "outputs": [
    {
     "data": {
      "image/png": "[encoded data removed]",
      "text/plain": [
       "<Figure size 576x576 with 2 Axes>"
      ]
     },
     "metadata": {
      "needs_background": "light",
      "tags": []
     },
     "output_type": "display_data"
    }
   ],
   "source": [
    "plot_accuracy(history_withoutDropout)"
   ]
  },
  {
   "cell_type": "markdown",
   "metadata": {
    "id": "z2xFj3RvOxBc"
   },
   "source": [
    "As we can see, the validation accurary has a great fluctuation which means our model is overfitting."
   ]
  },
  {
   "cell_type": "markdown",
   "metadata": {
    "id": "bxTYtcv0tSS4"
   },
   "source": [
    "Model 3 with dropout"
   ]
  },
  {
   "cell_type": "code",
   "execution_count": null,
   "metadata": {
    "colab": {
     "base_uri": "https://localhost:8080/"
    },
    "executionInfo": {
     "elapsed": 444,
     "status": "ok",
     "timestamp": 1617599193054,
     "user": {
      "displayName": "Jiaoli Yang",
      "photoUrl": "",
      "userId": "05005355606636311294"
     },
     "user_tz": 420
    },
    "id": "_O5LeMIxKZwY",
    "outputId": "f6d8631b-a66e-475c-a603-e7b9253ae0e0"
   },
   "outputs": [
    {
     "name": "stdout",
     "output_type": "stream",
     "text": [
      "Model: \"sequential_1\"\n",
      "_________________________________________________________________\n",
      "Layer (type)                 Output Shape              Param #   \n",
      "=================================================================\n",
      "vgg16 (Functional)           (None, 4, 4, 512)         14714688  \n",
      "_________________________________________________________________\n",
      "flatten_1 (Flatten)          (None, 8192)              0         \n",
      "_________________________________________________________________\n",
      "dropout (Dropout)            (None, 8192)              0         \n",
      "_________________________________________________________________\n",
      "dense_3 (Dense)              (None, 128)               1048704   \n",
      "_________________________________________________________________\n",
      "dense_4 (Dense)              (None, 64)                8256      \n",
      "_________________________________________________________________\n",
      "dropout_1 (Dropout)          (None, 64)                0         \n",
      "_________________________________________________________________\n",
      "batch_normalization_1 (Batch (None, 64)                256       \n",
      "_________________________________________________________________\n",
      "dense_5 (Dense)              (None, 1)                 65        \n",
      "=================================================================\n",
      "Total params: 15,771,969\n",
      "Trainable params: 1,057,153\n",
      "Non-trainable params: 14,714,816\n",
      "_________________________________________________________________\n"
     ]
    }
   ],
   "source": [
    "model_dropout = tf.keras.Sequential()\n",
    "model_dropout.add(VGG_model)\n",
    "model_dropout.add(layers.Flatten())\n",
    "model_dropout.add(Dropout(0.4))\n",
    "model_dropout.add(Dense(128, activation = 'relu'),)\n",
    "model_dropout.add(Dense(64, activation = 'relu'))\n",
    "model_dropout.add(Dropout(0.3))\n",
    "model_dropout.add(BatchNormalization())\n",
    "model_dropout.add(Dense(1, activation = 'sigmoid'))\n",
    "\n",
    "model_dropout.layers[0].trainable = False\n",
    "\n",
    "model_dropout.compile(\n",
    "    loss='binary_crossentropy',\n",
    "    optimizer = 'adam',\n",
    "    metrics=['accuracy']\n",
    ")\n",
    "\n",
    "model_dropout.summary()"
   ]
  },
  {
   "cell_type": "code",
   "execution_count": null,
   "metadata": {
    "colab": {
     "base_uri": "https://localhost:8080/"
    },
    "executionInfo": {
     "elapsed": 1110456,
     "status": "ok",
     "timestamp": 1617600325549,
     "user": {
      "displayName": "Jiaoli Yang",
      "photoUrl": "",
      "userId": "05005355606636311294"
     },
     "user_tz": 420
    },
    "id": "Cc7UkWBpLlJG",
    "outputId": "b61d0f23-14e7-4c1b-b3d4-195efbc0c301"
   },
   "outputs": [
    {
     "name": "stdout",
     "output_type": "stream",
     "text": [
      "Epoch 1/20\n",
      "12/12 [==============================] - 57s 5s/step - loss: 0.7416 - accuracy: 0.6209 - val_loss: 0.7639 - val_accuracy: 0.6923\n",
      "Epoch 2/20\n",
      "12/12 [==============================] - 55s 5s/step - loss: 0.5826 - accuracy: 0.7248 - val_loss: 1.2329 - val_accuracy: 0.6154\n",
      "Epoch 3/20\n",
      "12/12 [==============================] - 55s 5s/step - loss: 0.5924 - accuracy: 0.7066 - val_loss: 1.3122 - val_accuracy: 0.6154\n",
      "Epoch 4/20\n",
      "12/12 [==============================] - 55s 5s/step - loss: 0.5061 - accuracy: 0.7730 - val_loss: 0.7966 - val_accuracy: 0.6923\n",
      "Epoch 5/20\n",
      "12/12 [==============================] - 55s 5s/step - loss: 0.5444 - accuracy: 0.7251 - val_loss: 0.5801 - val_accuracy: 0.6538\n",
      "Epoch 6/20\n",
      "12/12 [==============================] - 55s 5s/step - loss: 0.5116 - accuracy: 0.7747 - val_loss: 0.4095 - val_accuracy: 0.8077\n",
      "Epoch 7/20\n",
      "12/12 [==============================] - 55s 5s/step - loss: 0.4260 - accuracy: 0.8048 - val_loss: 0.3904 - val_accuracy: 0.8077\n",
      "Epoch 8/20\n",
      "12/12 [==============================] - 55s 5s/step - loss: 0.4686 - accuracy: 0.8036 - val_loss: 0.4468 - val_accuracy: 0.8077\n",
      "Epoch 9/20\n",
      "12/12 [==============================] - 56s 5s/step - loss: 0.4084 - accuracy: 0.8331 - val_loss: 0.4438 - val_accuracy: 0.8077\n",
      "Epoch 10/20\n",
      "12/12 [==============================] - 56s 5s/step - loss: 0.4514 - accuracy: 0.7828 - val_loss: 0.3478 - val_accuracy: 0.8077\n",
      "Epoch 11/20\n",
      "12/12 [==============================] - 55s 5s/step - loss: 0.3856 - accuracy: 0.8321 - val_loss: 0.3343 - val_accuracy: 0.8846\n",
      "Epoch 12/20\n",
      "12/12 [==============================] - 55s 5s/step - loss: 0.4185 - accuracy: 0.7848 - val_loss: 0.3608 - val_accuracy: 0.8077\n",
      "Epoch 13/20\n",
      "12/12 [==============================] - 56s 5s/step - loss: 0.4456 - accuracy: 0.7568 - val_loss: 0.3428 - val_accuracy: 0.8077\n",
      "Epoch 14/20\n",
      "12/12 [==============================] - 55s 5s/step - loss: 0.4062 - accuracy: 0.7859 - val_loss: 0.3034 - val_accuracy: 0.8462\n",
      "Epoch 15/20\n",
      "12/12 [==============================] - 55s 5s/step - loss: 0.4057 - accuracy: 0.8215 - val_loss: 0.2837 - val_accuracy: 0.8462\n",
      "Epoch 16/20\n",
      "12/12 [==============================] - 55s 5s/step - loss: 0.4157 - accuracy: 0.7955 - val_loss: 0.3073 - val_accuracy: 0.8077\n",
      "Epoch 17/20\n",
      "12/12 [==============================] - 55s 5s/step - loss: 0.3482 - accuracy: 0.8562 - val_loss: 0.2941 - val_accuracy: 0.8462\n",
      "Epoch 18/20\n",
      "12/12 [==============================] - 55s 5s/step - loss: 0.3136 - accuracy: 0.8682 - val_loss: 0.3448 - val_accuracy: 0.8462\n",
      "Epoch 19/20\n",
      "12/12 [==============================] - 55s 5s/step - loss: 0.3254 - accuracy: 0.8633 - val_loss: 0.2885 - val_accuracy: 0.8462\n",
      "Epoch 20/20\n",
      "12/12 [==============================] - 55s 5s/step - loss: 0.2975 - accuracy: 0.8961 - val_loss: 0.2774 - val_accuracy: 0.8846\n"
     ]
    }
   ],
   "source": [
    "history_dropout = model_dropout.fit(\n",
    "      train_generator,\n",
    "      epochs=20,\n",
    "      validation_data=validation_generator,\n",
    "      )"
   ]
  },
  {
   "cell_type": "markdown",
   "metadata": {
    "id": "usqvxaTyf45O"
   },
   "source": [
    "Plot Accuracy"
   ]
  },
  {
   "cell_type": "code",
   "execution_count": null,
   "metadata": {
    "colab": {
     "base_uri": "https://localhost:8080/",
     "height": 499
    },
    "executionInfo": {
     "elapsed": 422444,
     "status": "ok",
     "timestamp": 1617600326215,
     "user": {
      "displayName": "Jiaoli Yang",
      "photoUrl": "",
      "userId": "05005355606636311294"
     },
     "user_tz": 420
    },
    "id": "hpG3Mmn2NUeM",
    "outputId": "8da2d3d7-3037-4b2f-a054-019c9e46b1ce"
   },
   "outputs": [
    {
     "data": {
      "image/png": "[encoded data removed]",
      "text/plain": [
       "<Figure size 576x576 with 2 Axes>"
      ]
     },
     "metadata": {
      "needs_background": "light",
      "tags": []
     },
     "output_type": "display_data"
    }
   ],
   "source": [
    "plot_accuracy(history_dropout)"
   ]
  },
  {
   "cell_type": "markdown",
   "metadata": {
    "id": "aPBt_oKnOiAb"
   },
   "source": [
    "As we can see, after we added two dropout layers, the validation accuracy become better."
   ]
  },
  {
   "cell_type": "markdown",
   "metadata": {
    "id": "Ytu3R3Xsnddd"
   },
   "source": [
    "Model With Hyperparameter tunning"
   ]
  },
  {
   "cell_type": "code",
   "execution_count": null,
   "metadata": {
    "colab": {
     "base_uri": "https://localhost:8080/"
    },
    "executionInfo": {
     "elapsed": 3648,
     "status": "ok",
     "timestamp": 1617601220468,
     "user": {
      "displayName": "Jiaoli Yang",
      "photoUrl": "",
      "userId": "05005355606636311294"
     },
     "user_tz": 420
    },
    "id": "3TuE-6RSIrya",
    "outputId": "d2167a8c-080b-4f5e-8658-5aa7f9ee09b8"
   },
   "outputs": [
    {
     "name": "stdout",
     "output_type": "stream",
     "text": [
      "Requirement already satisfied: keras-tuner in /usr/local/lib/python3.7/dist-packages (1.0.2)\n",
      "Requirement already satisfied: tqdm in /usr/local/lib/python3.7/dist-packages (from keras-tuner) (4.41.1)\n",
      "Requirement already satisfied: numpy in /usr/local/lib/python3.7/dist-packages (from keras-tuner) (1.19.5)\n",
      "Requirement already satisfied: packaging in /usr/local/lib/python3.7/dist-packages (from keras-tuner) (20.9)\n",
      "Requirement already satisfied: colorama in /usr/local/lib/python3.7/dist-packages (from keras-tuner) (0.4.4)\n",
      "Requirement already satisfied: scikit-learn in /usr/local/lib/python3.7/dist-packages (from keras-tuner) (0.22.2.post1)\n",
      "Requirement already satisfied: future in /usr/local/lib/python3.7/dist-packages (from keras-tuner) (0.16.0)\n",
      "Requirement already satisfied: requests in /usr/local/lib/python3.7/dist-packages (from keras-tuner) (2.23.0)\n",
      "Requirement already satisfied: terminaltables in /usr/local/lib/python3.7/dist-packages (from keras-tuner) (3.1.0)\n",
      "Requirement already satisfied: tabulate in /usr/local/lib/python3.7/dist-packages (from keras-tuner) (0.8.9)\n",
      "Requirement already satisfied: scipy in /usr/local/lib/python3.7/dist-packages (from keras-tuner) (1.4.1)\n",
      "Requirement already satisfied: pyparsing>=2.0.2 in /usr/local/lib/python3.7/dist-packages (from packaging->keras-tuner) (2.4.7)\n",
      "Requirement already satisfied: joblib>=0.11 in /usr/local/lib/python3.7/dist-packages (from scikit-learn->keras-tuner) (1.0.1)\n",
      "Requirement already satisfied: chardet<4,>=3.0.2 in /usr/local/lib/python3.7/dist-packages (from requests->keras-tuner) (3.0.4)\n",
      "Requirement already satisfied: certifi>=2017.4.17 in /usr/local/lib/python3.7/dist-packages (from requests->keras-tuner) (2020.12.5)\n",
      "Requirement already satisfied: urllib3!=1.25.0,!=1.25.1,<1.26,>=1.21.1 in /usr/local/lib/python3.7/dist-packages (from requests->keras-tuner) (1.24.3)\n",
      "Requirement already satisfied: idna<3,>=2.5 in /usr/local/lib/python3.7/dist-packages (from requests->keras-tuner) (2.10)\n"
     ]
    }
   ],
   "source": [
    "pip install keras-tuner"
   ]
  },
  {
   "cell_type": "code",
   "execution_count": null,
   "metadata": {
    "id": "FpBOiHfen58U"
   },
   "outputs": [],
   "source": [
    "from kerastuner import HyperModel"
   ]
  },
  {
   "cell_type": "code",
   "execution_count": null,
   "metadata": {
    "id": "zTQwxT0Qn8AC"
   },
   "outputs": [],
   "source": [
    "class HyperModel(HyperModel):\n",
    "    def __init__(self,input_shape,num_classes):\n",
    "        self.input_shape = input_shape\n",
    "        self.num_classes = num_classes\n",
    "    \n",
    "    def build(self,hp):\n",
    "        model_hyper = keras.Sequential()\n",
    "        model_hyper.add(Conv2D(\n",
    "           filters=hp.Choice(\n",
    "                'num_filters',\n",
    "                values=[32,64,128,256],\n",
    "                default=64,\n",
    "            ),\n",
    "            padding = 'same',\n",
    "            activation='relu',\n",
    "            kernel_size=3))\n",
    "\n",
    "        model_hyper.add(MaxPooling2D(2,2))\n",
    "        model_hyper.add(BatchNormalization())\n",
    "        model_hyper.add(Conv2D(\n",
    "           filters=hp.Choice(\n",
    "                'num_filters',\n",
    "                values=[32,64,128,256],\n",
    "                default=64,\n",
    "            ),\n",
    "            padding = 'same',\n",
    "            activation='relu',\n",
    "            kernel_size=3))\n",
    "\n",
    "        model_hyper.add(layers.Flatten())\n",
    "        model_hyper.add(\n",
    "            Dropout(rate = hp.Float(\n",
    "                'dropout',\n",
    "                min_value = 0,\n",
    "                max_value = 0.5,\n",
    "                default = 0.25,\n",
    "                step = 0.05\n",
    "            ))\n",
    "        )\n",
    "        model_hyper.add(\n",
    "                Dense(\n",
    "                    units = hp.Int(\n",
    "                        'units',\n",
    "                        min_value = 64,\n",
    "                        max_value = 512,\n",
    "                        step = 32,\n",
    "                        default = 256\n",
    "                    ),\n",
    "                    activation = hp.Choice(\n",
    "                        'dense_activation',\n",
    "                        values = ['relu','sigmoid'],\n",
    "                        default = 'relu'\n",
    "                    )\n",
    "                )\n",
    "            )\n",
    "\n",
    "        model_hyper.add(Dense(64,activation = 'relu'))\n",
    "        model_hyper.add(layers.Dense(1,activation = 'sigmoid'))\n",
    "\n",
    "        model_hyper.compile(\n",
    "            loss = 'binary_crossentropy',\n",
    "            optimizer = keras.optimizers.Adam(\n",
    "                hp.Float(\n",
    "                    'learning_rate',\n",
    "                    min_value = 1e-4,\n",
    "                    max_value = 1e-2,\n",
    "                    sampling = 'LOG',\n",
    "                    default = 1e-3\n",
    "                )\n",
    "            ),\n",
    "            metrics = ['accuracy']\n",
    "        )\n",
    "\n",
    "        return model_hyper"
   ]
  },
  {
   "cell_type": "code",
   "execution_count": null,
   "metadata": {
    "colab": {
     "base_uri": "https://localhost:8080/"
    },
    "executionInfo": {
     "elapsed": 498,
     "status": "ok",
     "timestamp": 1617601266062,
     "user": {
      "displayName": "Jiaoli Yang",
      "photoUrl": "",
      "userId": "05005355606636311294"
     },
     "user_tz": 420
    },
    "id": "0p4WuTMcoLIA",
    "outputId": "529b9ae7-c0e9-4297-d1e5-620dc5422437"
   },
   "outputs": [
    {
     "name": "stdout",
     "output_type": "stream",
     "text": [
      "Search space summary\n",
      "Default search space size: 5\n",
      "num_filters (Choice)\n",
      "{'default': 64, 'conditions': [], 'values': [32, 64, 128, 256], 'ordered': True}\n",
      "dropout (Float)\n",
      "{'default': 0.25, 'conditions': [], 'min_value': 0.0, 'max_value': 0.5, 'step': 0.05, 'sampling': None}\n",
      "units (Int)\n",
      "{'default': 256, 'conditions': [], 'min_value': 64, 'max_value': 512, 'step': 32, 'sampling': None}\n",
      "dense_activation (Choice)\n",
      "{'default': 'relu', 'conditions': [], 'values': ['relu', 'sigmoid'], 'ordered': False}\n",
      "learning_rate (Float)\n",
      "{'default': 0.001, 'conditions': [], 'min_value': 0.0001, 'max_value': 0.01, 'step': None, 'sampling': 'log'}\n"
     ]
    }
   ],
   "source": [
    "from kerastuner.tuners import RandomSearch\n",
    "\n",
    "NUM_CLASSES = 2\n",
    "INPUT_SHAPE = (target,target,3)\n",
    "HYPERBAND_MAX_EPOCHS = 20\n",
    "MAX_TRIALS = 20\n",
    "EXECUTION_PER_TRIAL = 2\n",
    "SEED = 1\n",
    "\n",
    "hyper_model = HyperModel(input_shape= INPUT_SHAPE, num_classes= NUM_CLASSES)\n",
    "\n",
    "hyper_tunner = RandomSearch(\n",
    "    hyper_model,\n",
    "    objective = 'val_accuracy',\n",
    "    seed = SEED,\n",
    "    max_trials = MAX_TRIALS,\n",
    "    executions_per_trial = EXECUTION_PER_TRIAL,\n",
    "    directory = 'random_search',\n",
    "    project_name = 'brain_tunmor_hyper2'\n",
    ")\n",
    "\n",
    "hyper_tunner.search_space_summary()"
   ]
  },
  {
   "cell_type": "code",
   "execution_count": null,
   "metadata": {
    "colab": {
     "base_uri": "https://localhost:8080/"
    },
    "id": "BbMqNIfqujFA",
    "outputId": "215f1991-31f0-435d-a688-e310c5ff7b84"
   },
   "outputs": [
    {
     "name": "stdout",
     "output_type": "stream",
     "text": [
      "Trial 12 Complete [00h 13m 22s]\n",
      "val_accuracy: 0.7692307829856873\n",
      "\n",
      "Best val_accuracy So Far: 0.8076923191547394\n",
      "Total elapsed time: 08h 19m 53s\n",
      "\n",
      "Search: Running Trial #13\n",
      "\n",
      "Hyperparameter    |Value             |Best Value So Far \n",
      "num_filters       |256               |64                \n",
      "dropout           |0.45              |0.5               \n",
      "units             |256               |352               \n",
      "dense_activation  |sigmoid           |relu              \n",
      "learning_rate     |0.00067529        |0.00015159        \n",
      "\n",
      "Epoch 1/30\n",
      "12/12 [==============================] - 144s 12s/step - loss: 0.7413 - accuracy: 0.6075 - val_loss: 0.6901 - val_accuracy: 0.6154\n",
      "Epoch 2/30\n",
      "12/12 [==============================] - 139s 12s/step - loss: 0.6481 - accuracy: 0.6489 - val_loss: 0.7166 - val_accuracy: 0.6154\n",
      "Epoch 3/30\n",
      "12/12 [==============================] - 138s 11s/step - loss: 0.6257 - accuracy: 0.6541 - val_loss: 0.6878 - val_accuracy: 0.6154\n",
      "Epoch 4/30\n",
      "12/12 [==============================] - 138s 12s/step - loss: 0.6571 - accuracy: 0.5465 - val_loss: 0.6617 - val_accuracy: 0.5769\n",
      "Epoch 5/30\n",
      "12/12 [==============================] - 138s 12s/step - loss: 0.5759 - accuracy: 0.7008 - val_loss: 0.6661 - val_accuracy: 0.6154\n",
      "Epoch 6/30\n",
      "12/12 [==============================] - 138s 12s/step - loss: 0.6090 - accuracy: 0.6234 - val_loss: 0.6099 - val_accuracy: 0.5385\n",
      "Epoch 7/30\n",
      "12/12 [==============================] - 138s 11s/step - loss: 0.6018 - accuracy: 0.6626 - val_loss: 0.7070 - val_accuracy: 0.6154\n",
      "Epoch 8/30\n",
      "12/12 [==============================] - 138s 11s/step - loss: 0.6190 - accuracy: 0.6608 - val_loss: 0.6414 - val_accuracy: 0.6154\n",
      "Epoch 9/30\n",
      "12/12 [==============================] - 138s 12s/step - loss: 0.6366 - accuracy: 0.6425 - val_loss: 0.6398 - val_accuracy: 0.5385\n",
      "Epoch 10/30\n",
      "12/12 [==============================] - 139s 12s/step - loss: 0.5757 - accuracy: 0.7039 - val_loss: 0.6821 - val_accuracy: 0.6154\n",
      "Epoch 11/30\n",
      "12/12 [==============================] - 138s 11s/step - loss: 0.5588 - accuracy: 0.7198 - val_loss: 0.6301 - val_accuracy: 0.6154\n",
      "Epoch 12/30\n",
      "12/12 [==============================] - 138s 11s/step - loss: 0.5697 - accuracy: 0.7138 - val_loss: 0.7519 - val_accuracy: 0.6154\n",
      "Epoch 13/30\n",
      "12/12 [==============================] - 138s 11s/step - loss: 0.6084 - accuracy: 0.7014 - val_loss: 0.6200 - val_accuracy: 0.6154\n",
      "Epoch 14/30\n",
      "12/12 [==============================] - 137s 11s/step - loss: 0.6011 - accuracy: 0.7060 - val_loss: 0.6772 - val_accuracy: 0.6154\n",
      "Epoch 15/30\n",
      "12/12 [==============================] - 138s 11s/step - loss: 0.5687 - accuracy: 0.6935 - val_loss: 0.6444 - val_accuracy: 0.6538\n",
      "Epoch 16/30\n",
      "12/12 [==============================] - 138s 11s/step - loss: 0.6612 - accuracy: 0.6298 - val_loss: 0.6733 - val_accuracy: 0.6154\n",
      "Epoch 17/30\n",
      "12/12 [==============================] - 137s 11s/step - loss: 0.5957 - accuracy: 0.7414 - val_loss: 0.6463 - val_accuracy: 0.5769\n",
      "Epoch 18/30\n",
      "12/12 [==============================] - 138s 11s/step - loss: 0.6208 - accuracy: 0.7023 - val_loss: 0.6260 - val_accuracy: 0.6538\n",
      "Epoch 19/30\n",
      "12/12 [==============================] - 138s 11s/step - loss: 0.5833 - accuracy: 0.7192 - val_loss: 0.5721 - val_accuracy: 0.6923\n",
      "Epoch 20/30\n",
      "12/12 [==============================] - 138s 11s/step - loss: 0.6359 - accuracy: 0.6613 - val_loss: 0.6343 - val_accuracy: 0.6154\n",
      "Epoch 21/30\n",
      "12/12 [==============================] - 138s 11s/step - loss: 0.6258 - accuracy: 0.6278 - val_loss: 0.6479 - val_accuracy: 0.6154\n",
      "Epoch 22/30\n",
      "12/12 [==============================] - 138s 11s/step - loss: 0.6094 - accuracy: 0.6966 - val_loss: 0.6386 - val_accuracy: 0.6154\n",
      "Epoch 23/30\n",
      "12/12 [==============================] - 137s 11s/step - loss: 0.6411 - accuracy: 0.6009 - val_loss: 0.6709 - val_accuracy: 0.6154\n",
      "Epoch 24/30\n",
      "12/12 [==============================] - 137s 11s/step - loss: 0.7063 - accuracy: 0.6143 - val_loss: 0.7922 - val_accuracy: 0.4231\n",
      "Epoch 25/30\n",
      "12/12 [==============================] - 137s 12s/step - loss: 0.7372 - accuracy: 0.4164 - val_loss: 0.8082 - val_accuracy: 0.4231\n",
      "Epoch 26/30\n",
      "12/12 [==============================] - 138s 11s/step - loss: 0.7251 - accuracy: 0.5727 - val_loss: 0.7644 - val_accuracy: 0.5000\n",
      "Epoch 27/30\n",
      "12/12 [==============================] - 138s 11s/step - loss: 0.6882 - accuracy: 0.6133 - val_loss: 0.7621 - val_accuracy: 0.4615\n",
      "Epoch 28/30\n",
      "12/12 [==============================] - 138s 11s/step - loss: 0.6633 - accuracy: 0.6306 - val_loss: 0.7005 - val_accuracy: 0.5385\n",
      "Epoch 29/30\n",
      "12/12 [==============================] - 138s 11s/step - loss: 0.6406 - accuracy: 0.6363 - val_loss: 0.6976 - val_accuracy: 0.5385\n",
      "Epoch 30/30\n",
      "12/12 [==============================] - 137s 11s/step - loss: 0.6693 - accuracy: 0.6073 - val_loss: 0.7014 - val_accuracy: 0.5000\n",
      "Epoch 1/30\n"
     ]
    }
   ],
   "source": [
    "hyper_tunner.search(train_generator,\n",
    "                    validation_data = validation_generator, \n",
    "                    epochs = 30)"
   ]
  },
  {
   "cell_type": "code",
   "execution_count": null,
   "metadata": {
    "colab": {
     "base_uri": "https://localhost:8080/"
    },
    "executionInfo": {
     "elapsed": 614,
     "status": "ok",
     "timestamp": 1617596742194,
     "user": {
      "displayName": "Jiaoli Yang",
      "photoUrl": "",
      "userId": "05005355606636311294"
     },
     "user_tz": 420
    },
    "id": "XuenRDWtwvsa",
    "outputId": "27901b7f-90d7-4601-eb22-c5f080706de9"
   },
   "outputs": [
    {
     "name": "stdout",
     "output_type": "stream",
     "text": [
      "Results summary\n",
      "Results in random_search/brain_tunmor_hyper\n",
      "Showing 10 best trials\n",
      "Objective(name='val_accuracy', direction='max')\n",
      "Trial summary\n",
      "Hyperparameters:\n",
      "num_filters: 32\n",
      "dropout: 0.30000000000000004\n",
      "units: 128\n",
      "dense_activation: relu\n",
      "learning_rate: 0.0011971901340926848\n",
      "Score: 0.7884615361690521\n",
      "Trial summary\n",
      "Hyperparameters:\n",
      "num_filters: 64\n",
      "dropout: 0.05\n",
      "units: 192\n",
      "dense_activation: relu\n",
      "learning_rate: 0.000797425773423712\n",
      "Score: 0.7692307829856873\n",
      "Trial summary\n",
      "Hyperparameters:\n",
      "num_filters: 32\n",
      "dropout: 0.05\n",
      "units: 384\n",
      "dense_activation: relu\n",
      "learning_rate: 0.006599917029213527\n",
      "Score: 0.7692307531833649\n",
      "Trial summary\n",
      "Hyperparameters:\n",
      "num_filters: 32\n",
      "dropout: 0.2\n",
      "units: 480\n",
      "dense_activation: relu\n",
      "learning_rate: 0.0033137745378583987\n",
      "Score: 0.7692307531833649\n",
      "Trial summary\n",
      "Hyperparameters:\n",
      "num_filters: 32\n",
      "dropout: 0.2\n",
      "units: 320\n",
      "dense_activation: relu\n",
      "learning_rate: 0.0009887195863122636\n",
      "Score: 0.75\n",
      "Trial summary\n",
      "Hyperparameters:\n",
      "num_filters: 64\n",
      "dropout: 0.25\n",
      "units: 192\n",
      "dense_activation: relu\n",
      "learning_rate: 0.008520876742029873\n",
      "Score: 0.75\n",
      "Trial summary\n",
      "Hyperparameters:\n",
      "num_filters: 64\n",
      "dropout: 0.1\n",
      "units: 224\n",
      "dense_activation: sigmoid\n",
      "learning_rate: 0.000195586335667274\n",
      "Score: 0.75\n",
      "Trial summary\n",
      "Hyperparameters:\n",
      "num_filters: 32\n",
      "dropout: 0.05\n",
      "units: 256\n",
      "dense_activation: relu\n",
      "learning_rate: 0.0002554705805046948\n",
      "Score: 0.75\n",
      "Trial summary\n",
      "Hyperparameters:\n",
      "num_filters: 32\n",
      "dropout: 0.5\n",
      "units: 352\n",
      "dense_activation: relu\n",
      "learning_rate: 0.00015159319577885927\n",
      "Score: 0.75\n",
      "Trial summary\n",
      "Hyperparameters:\n",
      "num_filters: 64\n",
      "dropout: 0.35000000000000003\n",
      "units: 352\n",
      "dense_activation: relu\n",
      "learning_rate: 0.0008264439766792489\n",
      "Score: 0.75\n",
      "WARNING:tensorflow:Unresolved object in checkpoint: (root).layer_with_weights-0.kernel\n",
      "WARNING:tensorflow:Unresolved object in checkpoint: (root).layer_with_weights-0.bias\n",
      "WARNING:tensorflow:Unresolved object in checkpoint: (root).layer_with_weights-1.kernel\n",
      "WARNING:tensorflow:Unresolved object in checkpoint: (root).layer_with_weights-1.bias\n",
      "WARNING:tensorflow:Unresolved object in checkpoint: (root).layer_with_weights-2.kernel\n",
      "WARNING:tensorflow:Unresolved object in checkpoint: (root).layer_with_weights-2.bias\n",
      "WARNING:tensorflow:Unresolved object in checkpoint: (root).layer_with_weights-3.kernel\n",
      "WARNING:tensorflow:Unresolved object in checkpoint: (root).layer_with_weights-3.bias\n",
      "WARNING:tensorflow:Unresolved object in checkpoint: (root).optimizer.iter\n",
      "WARNING:tensorflow:Unresolved object in checkpoint: (root).optimizer.beta_1\n",
      "WARNING:tensorflow:Unresolved object in checkpoint: (root).optimizer.beta_2\n",
      "WARNING:tensorflow:Unresolved object in checkpoint: (root).optimizer.decay\n",
      "WARNING:tensorflow:Unresolved object in checkpoint: (root).optimizer.learning_rate\n",
      "WARNING:tensorflow:Unresolved object in checkpoint: (root).optimizer's state 'm' for (root).layer_with_weights-0.kernel\n",
      "WARNING:tensorflow:Unresolved object in checkpoint: (root).optimizer's state 'm' for (root).layer_with_weights-0.bias\n",
      "WARNING:tensorflow:Unresolved object in checkpoint: (root).optimizer's state 'm' for (root).layer_with_weights-1.kernel\n",
      "WARNING:tensorflow:Unresolved object in checkpoint: (root).optimizer's state 'm' for (root).layer_with_weights-1.bias\n",
      "WARNING:tensorflow:Unresolved object in checkpoint: (root).optimizer's state 'm' for (root).layer_with_weights-2.kernel\n",
      "WARNING:tensorflow:Unresolved object in checkpoint: (root).optimizer's state 'm' for (root).layer_with_weights-2.bias\n",
      "WARNING:tensorflow:Unresolved object in checkpoint: (root).optimizer's state 'm' for (root).layer_with_weights-3.kernel\n",
      "WARNING:tensorflow:Unresolved object in checkpoint: (root).optimizer's state 'm' for (root).layer_with_weights-3.bias\n",
      "WARNING:tensorflow:Unresolved object in checkpoint: (root).optimizer's state 'v' for (root).layer_with_weights-0.kernel\n",
      "WARNING:tensorflow:Unresolved object in checkpoint: (root).optimizer's state 'v' for (root).layer_with_weights-0.bias\n",
      "WARNING:tensorflow:Unresolved object in checkpoint: (root).optimizer's state 'v' for (root).layer_with_weights-1.kernel\n",
      "WARNING:tensorflow:Unresolved object in checkpoint: (root).optimizer's state 'v' for (root).layer_with_weights-1.bias\n",
      "WARNING:tensorflow:Unresolved object in checkpoint: (root).optimizer's state 'v' for (root).layer_with_weights-2.kernel\n",
      "WARNING:tensorflow:Unresolved object in checkpoint: (root).optimizer's state 'v' for (root).layer_with_weights-2.bias\n",
      "WARNING:tensorflow:Unresolved object in checkpoint: (root).optimizer's state 'v' for (root).layer_with_weights-3.kernel\n",
      "WARNING:tensorflow:Unresolved object in checkpoint: (root).optimizer's state 'v' for (root).layer_with_weights-3.bias\n",
      "WARNING:tensorflow:A checkpoint was restored (e.g. tf.train.Checkpoint.restore or tf.keras.Model.load_weights) but not all checkpointed values were used. See above for specific issues. Use expect_partial() on the load status object, e.g. tf.train.Checkpoint.restore(...).expect_partial(), to silence these warnings, or use assert_consumed() to make the check explicit. See https://www.tensorflow.org/guide/checkpoint#loading_mechanics for details.\n"
     ]
    }
   ],
   "source": [
    "hyper_tunner.results_summary()\n",
    "best_model = hyper_tunner.get_best_models(num_models = 1)[0]"
   ]
  },
  {
   "cell_type": "code",
   "execution_count": null,
   "metadata": {
    "colab": {
     "base_uri": "https://localhost:8080/"
    },
    "executionInfo": {
     "elapsed": 207371,
     "status": "ok",
     "timestamp": 1617597245654,
     "user": {
      "displayName": "Jiaoli Yang",
      "photoUrl": "",
      "userId": "05005355606636311294"
     },
     "user_tz": 420
    },
    "id": "k6S5T-Xxwvux",
    "outputId": "5e8edb1f-70b1-4fd1-d79f-f56885babb92"
   },
   "outputs": [
    {
     "name": "stdout",
     "output_type": "stream",
     "text": [
      "Epoch 1/30\n",
      "12/12 [==============================] - 8s 591ms/step - loss: 0.4890 - accuracy: 0.8023 - val_loss: 0.5444 - val_accuracy: 0.6923\n",
      "Epoch 2/30\n",
      "12/12 [==============================] - 7s 555ms/step - loss: 0.5375 - accuracy: 0.7099 - val_loss: 0.5093 - val_accuracy: 0.7308\n",
      "Epoch 3/30\n",
      "12/12 [==============================] - 7s 552ms/step - loss: 0.5031 - accuracy: 0.7702 - val_loss: 0.5124 - val_accuracy: 0.6923\n",
      "Epoch 4/30\n",
      "12/12 [==============================] - 7s 558ms/step - loss: 0.4862 - accuracy: 0.7633 - val_loss: 0.5058 - val_accuracy: 0.7308\n",
      "Epoch 5/30\n",
      "12/12 [==============================] - 7s 555ms/step - loss: 0.4427 - accuracy: 0.8205 - val_loss: 0.6249 - val_accuracy: 0.7308\n",
      "Epoch 6/30\n",
      "12/12 [==============================] - 7s 550ms/step - loss: 0.5464 - accuracy: 0.7541 - val_loss: 0.5113 - val_accuracy: 0.6538\n",
      "Epoch 7/30\n",
      "12/12 [==============================] - 7s 572ms/step - loss: 0.6109 - accuracy: 0.7018 - val_loss: 0.5111 - val_accuracy: 0.7308\n",
      "Epoch 8/30\n",
      "12/12 [==============================] - 7s 550ms/step - loss: 0.4655 - accuracy: 0.7739 - val_loss: 0.5333 - val_accuracy: 0.7308\n",
      "Epoch 9/30\n",
      "12/12 [==============================] - 7s 549ms/step - loss: 0.5014 - accuracy: 0.8019 - val_loss: 0.5131 - val_accuracy: 0.7692\n",
      "Epoch 10/30\n",
      "12/12 [==============================] - 7s 563ms/step - loss: 0.4887 - accuracy: 0.7883 - val_loss: 0.5222 - val_accuracy: 0.7308\n",
      "Epoch 11/30\n",
      "12/12 [==============================] - 7s 547ms/step - loss: 0.4774 - accuracy: 0.7480 - val_loss: 0.5061 - val_accuracy: 0.7692\n",
      "Epoch 12/30\n",
      "12/12 [==============================] - 7s 558ms/step - loss: 0.4683 - accuracy: 0.8041 - val_loss: 0.4961 - val_accuracy: 0.7308\n",
      "Epoch 13/30\n",
      "12/12 [==============================] - 7s 552ms/step - loss: 0.4269 - accuracy: 0.8105 - val_loss: 0.4966 - val_accuracy: 0.7308\n",
      "Epoch 14/30\n",
      "12/12 [==============================] - 7s 554ms/step - loss: 0.5062 - accuracy: 0.7615 - val_loss: 0.5232 - val_accuracy: 0.7308\n",
      "Epoch 15/30\n",
      "12/12 [==============================] - 7s 544ms/step - loss: 0.5135 - accuracy: 0.8159 - val_loss: 0.5075 - val_accuracy: 0.7308\n",
      "Epoch 16/30\n",
      "12/12 [==============================] - 7s 544ms/step - loss: 0.4528 - accuracy: 0.7783 - val_loss: 0.4999 - val_accuracy: 0.7308\n",
      "Epoch 17/30\n",
      "12/12 [==============================] - 7s 555ms/step - loss: 0.4697 - accuracy: 0.8145 - val_loss: 0.4626 - val_accuracy: 0.7692\n",
      "Epoch 18/30\n",
      "12/12 [==============================] - 7s 550ms/step - loss: 0.5095 - accuracy: 0.8064 - val_loss: 0.4609 - val_accuracy: 0.7308\n",
      "Epoch 19/30\n",
      "12/12 [==============================] - 7s 568ms/step - loss: 0.5919 - accuracy: 0.7027 - val_loss: 0.4740 - val_accuracy: 0.7308\n",
      "Epoch 20/30\n",
      "12/12 [==============================] - 7s 543ms/step - loss: 0.4482 - accuracy: 0.7478 - val_loss: 0.5000 - val_accuracy: 0.6923\n",
      "Epoch 21/30\n",
      "12/12 [==============================] - 7s 548ms/step - loss: 0.4703 - accuracy: 0.7919 - val_loss: 0.4755 - val_accuracy: 0.6923\n",
      "Epoch 22/30\n",
      "12/12 [==============================] - 7s 545ms/step - loss: 0.4078 - accuracy: 0.8304 - val_loss: 0.4966 - val_accuracy: 0.6923\n",
      "Epoch 23/30\n",
      "12/12 [==============================] - 7s 558ms/step - loss: 0.3902 - accuracy: 0.8134 - val_loss: 0.5242 - val_accuracy: 0.6923\n",
      "Epoch 24/30\n",
      "12/12 [==============================] - 7s 557ms/step - loss: 0.3614 - accuracy: 0.8321 - val_loss: 0.4553 - val_accuracy: 0.7692\n",
      "Epoch 25/30\n",
      "12/12 [==============================] - 7s 565ms/step - loss: 0.4180 - accuracy: 0.8093 - val_loss: 0.4570 - val_accuracy: 0.7692\n",
      "Epoch 26/30\n",
      "12/12 [==============================] - 7s 562ms/step - loss: 0.4413 - accuracy: 0.7847 - val_loss: 0.4447 - val_accuracy: 0.7308\n",
      "Epoch 27/30\n",
      "12/12 [==============================] - 7s 558ms/step - loss: 0.3647 - accuracy: 0.8448 - val_loss: 0.5470 - val_accuracy: 0.7308\n",
      "Epoch 28/30\n",
      "12/12 [==============================] - 7s 559ms/step - loss: 0.4804 - accuracy: 0.7963 - val_loss: 0.5229 - val_accuracy: 0.6923\n",
      "Epoch 29/30\n",
      "12/12 [==============================] - 7s 574ms/step - loss: 0.4080 - accuracy: 0.8164 - val_loss: 0.5982 - val_accuracy: 0.7308\n",
      "Epoch 30/30\n",
      "12/12 [==============================] - 7s 561ms/step - loss: 0.4540 - accuracy: 0.7746 - val_loss: 0.5850 - val_accuracy: 0.7692\n"
     ]
    }
   ],
   "source": [
    "history_best_model = best_model.fit(\n",
    "    train_generator,\n",
    "    validation_data=validation_generator,\n",
    "    epochs=30)"
   ]
  },
  {
   "cell_type": "markdown",
   "metadata": {
    "id": "JqOyWnbd4IeO"
   },
   "source": [
    "Plot data"
   ]
  },
  {
   "cell_type": "code",
   "execution_count": null,
   "metadata": {
    "colab": {
     "base_uri": "https://localhost:8080/",
     "height": 499
    },
    "executionInfo": {
     "elapsed": 837,
     "status": "ok",
     "timestamp": 1617597322468,
     "user": {
      "displayName": "Jiaoli Yang",
      "photoUrl": "",
      "userId": "05005355606636311294"
     },
     "user_tz": 420
    },
    "id": "HymrwjMcwvxc",
    "outputId": "61091047-1c98-4c4a-c700-6bb6ff8ae66e"
   },
   "outputs": [
    {
     "data": {
      "image/png": "[encoded data removed]",
      "text/plain": [
       "<Figure size 576x576 with 2 Axes>"
      ]
     },
     "metadata": {
      "needs_background": "light",
      "tags": []
     },
     "output_type": "display_data"
    }
   ],
   "source": [
    "plot_accuracy(history_best_model)"
   ]
  },
  {
   "cell_type": "markdown",
   "metadata": {
    "id": "qDJwN4iI4X-6"
   },
   "source": [
    "Predict sample data"
   ]
  },
  {
   "cell_type": "code",
   "execution_count": null,
   "metadata": {
    "colab": {
     "base_uri": "https://localhost:8080/"
    },
    "executionInfo": {
     "elapsed": 657,
     "status": "ok",
     "timestamp": 1617593367262,
     "user": {
      "displayName": "Jiaoli Yang",
      "photoUrl": "",
      "userId": "05005355606636311294"
     },
     "user_tz": 420
    },
    "id": "p3xLsoeIwv0r",
    "outputId": "2d01ffd4-2a1d-4f36-9143-29df61ce46ee"
   },
   "outputs": [
    {
     "name": "stdout",
     "output_type": "stream",
     "text": [
      "Sample Image:  Y53.jpg\n",
      "The predicaiton result :  1.0\n",
      "tf.Tensor([73.10586], shape=(1,), dtype=float32)\n",
      "\n",
      "Sample Image:  Y61.jpg\n",
      "The predicaiton result :  1.2647157e-09\n",
      "tf.Tensor([50.], shape=(1,), dtype=float32)\n",
      "\n",
      "Sample Image:  Y55.jpg\n",
      "The predicaiton result :  1.0\n",
      "tf.Tensor([73.10586], shape=(1,), dtype=float32)\n",
      "\n",
      "Sample Image:  38 no.jpg\n",
      "The predicaiton result :  0.0\n",
      "tf.Tensor([50.], shape=(1,), dtype=float32)\n",
      "\n",
      "Sample Image:  11 no.jpg\n",
      "The predicaiton result :  0.0\n",
      "tf.Tensor([50.], shape=(1,), dtype=float32)\n",
      "\n"
     ]
    }
   ],
   "source": [
    "# Predict using Test Data\n",
    "\n",
    "for file in os.listdir(os.path.join(SAMPLE_DIR)):\n",
    "    print(\"Sample Image: \",file)\n",
    "    img = keras.preprocessing.image.load_img(\n",
    "    os.path.join(os.path.join(SAMPLE_DIR, file)), \n",
    "                target_size=(target, target))\n",
    "\n",
    "    img_array = keras.preprocessing.image.img_to_array(img)\n",
    "    img_array = tf.expand_dims(img_array, 0) # Create a batch\n",
    "\n",
    "    predictions = best_model.predict(img_array)\n",
    "    score = tf.nn.sigmoid(predictions[0])\n",
    "    \n",
    "    print(\"The predicaiton result : \" ,predictions[0][0])\n",
    "    print(100* score)\n",
    "    print()"
   ]
  }
 ],
 "metadata": {
  "colab": {
   "authorship_tag": "ABX9TyO6Qrcpj3TBloBrMco2c1VQ",
   "collapsed_sections": [],
   "mount_file_id": "1uS-jGiv73YeaOJswKjTjZxmPEW_VnEdv",
   "name": "001611667_Jiaoli Yang_Exercise #4_updated.ipynb",
   "provenance": []
  },
  "kernelspec": {
   "display_name": "Python 3",
   "language": "python",
   "name": "python3"
  },
  "language_info": {
   "codemirror_mode": {
    "name": "ipython",
    "version": 3
   },
   "file_extension": ".py",
   "mimetype": "text/x-python",
   "name": "python",
   "nbconvert_exporter": "python",
   "pygments_lexer": "ipython3",
   "version": "3.7.6"
  }
 },
 "nbformat": 4,
 "nbformat_minor": 1
}
